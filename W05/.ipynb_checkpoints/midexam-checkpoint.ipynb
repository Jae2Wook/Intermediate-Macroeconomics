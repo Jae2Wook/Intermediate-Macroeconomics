{
 "cells": [
  {
   "cell_type": "code",
   "execution_count": 1,
   "metadata": {},
   "outputs": [],
   "source": [
    "import numpy as np\n",
    "import pandas as pd\n",
    "import matplotlib.pyplot as plt"
   ]
  },
  {
   "cell_type": "markdown",
   "metadata": {},
   "source": [
    "1Q)"
   ]
  },
  {
   "cell_type": "code",
   "execution_count": 2,
   "metadata": {},
   "outputs": [
    {
     "name": "stdout",
     "output_type": "stream",
     "text": [
      "0     101908250.000000000000\n",
      "1     103084250.000000000000\n",
      "2     103598750.000000000000\n",
      "3     105470416.666666666667\n",
      "4     107333750.000000000000\n",
      "               ...          \n",
      "56        205502750.00000000\n",
      "57        205537500.00000000\n",
      "58        206507750.00000000\n",
      "59        206269916.66666667\n",
      "60                         .\n",
      "Name: POP, Length: 61, dtype: object\n",
      "0     0.667344\n",
      "1     0.689067\n",
      "2     0.684990\n",
      "3     0.692469\n",
      "4     0.693722\n",
      "        ...   \n",
      "59    1.007524\n",
      "60    1.013102\n",
      "61    1.021562\n",
      "62    1.022072\n",
      "63    1.030535\n",
      "Name: TFP, Length: 64, dtype: float64\n",
      "205537500.00000000\n",
      "113688166.66666667\n",
      "1.0305346250534058\n",
      "0.7937018871307373\n",
      "0.011913794134144284\n",
      "0.005236162356891727\n",
      "0.01\n",
      "0.01\n"
     ]
    }
   ],
   "source": [
    "POP = pd.read_csv(r\"C:\\Users\\Jae\\Desktop\\Econ 381\\homework\\midexam\\population.csv\", header = 0, names = [\"Date\", \"POP\"])\n",
    "TFP = pd.read_csv(r\"C:\\Users\\Jae\\Desktop\\Econ 381\\homework\\W07\\TFP.csv\", header = 0, names = [\"Date\", \"TFP\"])\n",
    "\n",
    "Date_pop = np.array(POP[\"Date\"], dtype = np.datetime64)\n",
    "Date_tfp = np.array(TFP[\"Date\"], dtype = np.datetime64)\n",
    "print(POP['POP'])\n",
    "print(TFP['TFP'])\n",
    "print(POP['POP'][57])   ## 2017/01/01\n",
    "print(POP['POP'][8]) \n",
    "print(TFP['TFP'][63])   ## 2017/01/01\n",
    "print(TFP['TFP'][14])\n",
    "\n",
    "n = (float(POP['POP'][57]) / float(POP['POP'][8]))**(1/50) - 1\n",
    "g = (TFP['TFP'][63] / TFP['TFP'][14])**(1/50) - 1\n",
    "print(n)\n",
    "print(g)\n",
    "print('{:.2f}'. format(n))\n",
    "print('{:.2f}'. format(g))\n"
   ]
  },
  {
   "cell_type": "code",
   "execution_count": 3,
   "metadata": {},
   "outputs": [
    {
     "name": "stdout",
     "output_type": "stream",
     "text": [
      "1.458112012665608\n",
      "k_star = 1.46\n"
     ]
    }
   ],
   "source": [
    "s=0.1\n",
    "d=0.06\n",
    "alpha=0.33\n",
    "l=0.01\n",
    "\n",
    "k_star = (1 - l) * (s / (d + g + n))**(1 / (1 - alpha))\n",
    "print(k_star)\n",
    "print(\"k_star = \"'{:.2f}'. format(k_star))"
   ]
  },
  {
   "cell_type": "code",
   "execution_count": 4,
   "metadata": {},
   "outputs": [
    {
     "name": "stdout",
     "output_type": "stream",
     "text": [
      "[1.17647059 1.19050739 1.20387226 1.21659434 1.22870189 1.2402222\n",
      " 1.25118163 1.26160561 1.27151861 1.28094418 1.28990495 1.29842263\n",
      " 1.30651807 1.31421125 1.32152129 1.32846653 1.33506448 1.34133189\n",
      " 1.34728478 1.35293844 1.35830748 1.36340583 1.36824679 1.37284304\n",
      " 1.37720667 1.38134918 1.38528158 1.3890143  1.3925573  1.39592007\n",
      " 1.39911163 1.40214055 1.40501501 1.40774279 1.41033127 1.41278747\n",
      " 1.41511809 1.41732947 1.41942766 1.42141839 1.42330711 1.42509901\n",
      " 1.42679901 1.42841179 1.42994179 1.43139323 1.43277012 1.43407626\n",
      " 1.43531527 1.43649058 1.43760544 1.43866296 1.43966606 1.44061753\n",
      " 1.44152003 1.44237606 1.443188   1.44395812 1.44468856 1.44538137\n",
      " 1.44603847 1.4466617  1.4472528  1.44781342 1.44834514]\n",
      "1.458112012665608\n",
      "1.448345139609795\n",
      "0.009766873055812919\n",
      "reaching to the steady-state at 65 years with 0.01 difference\n"
     ]
    },
    {
     "data": {
      "image/png": "[encoded data removed]",
      "text/plain": [
       "<Figure size 432x288 with 1 Axes>"
      ]
     },
     "metadata": {
      "needs_background": "light"
     },
     "output_type": "display_data"
    }
   ],
   "source": [
    "# 3 - 1\n",
    "\n",
    "K0=1000\n",
    "L0=500\n",
    "A0=1.7\n",
    "\n",
    "def L(L0, n, time):\n",
    "    return L0 * (1 + n)**(time)\n",
    "\n",
    "def A(A0, g, time):\n",
    "    return A0 * (1 + g)**(time)\n",
    "\n",
    "def output_per_person(l, alpha, capital_per_person):\n",
    "    return  pow(capital_per_person, alpha) * pow(1- l, 1- alpha)\n",
    "\n",
    "def sr_function_output(l, K, alpha, A, L):\n",
    "    return pow(1- l, 1 - alpha) * pow(K, alpha) * pow(A, 1 - alpha) * pow(L, 1 - alpha)\n",
    "\n",
    "time = 0\n",
    "population = [L0]\n",
    "knowledge = [A0]\n",
    "capital = [K0]\n",
    "capital_p = [capital[0] / (knowledge[0] * population[0])]\n",
    "output = [sr_function_output(l, capital[0], alpha, knowledge[0], population[0])]\n",
    "output_p = [output_per_person(l, alpha, capital_p[0])]\n",
    "investment = [s * output[0]]\n",
    "investment_p = [s * output_p[0]]\n",
    "depreciation = [(d + g + n) * capital[0]]\n",
    "depreciation_p = [(d + g + n) * capital_p[0]]\n",
    "consumption = [output[0] - investment[0]]\n",
    "consumption_p = [output_p[0] - investment_p[0]]\n",
    "change_in_capital = [investment[0] - depreciation[0]]\n",
    "change_in_capital_p = [investment_p[0] - depreciation_p[0]]\n",
    "i = 0\n",
    "\n",
    "while (abs(k_star - capital_p[i])) > 0.01:\n",
    "    i += 1\n",
    "    time = np.append(time, i)\n",
    "    population = np.append(population, L(L0, n, time[i]))    # population[i - 1] * (1 + n)\n",
    "    knowledge = np.append(knowledge, A(A0, g, time[i]))  # knowledge[i - 1] * (1 + g)\n",
    "    capital_p = np.append(capital_p, capital_p[i - 1] + change_in_capital_p[i - 1])\n",
    "    output_p = np.append(output_p, output_per_person(l, alpha, capital_p[i]))\n",
    "    investment_p = np.append(investment_p, s * output_p[i])\n",
    "    depreciation_p = np.append(depreciation_p, (d + g + n) * capital_p[i])\n",
    "    consumption_p = np.append(consumption_p, output_p[i] - investment_p[i])\n",
    "    change_in_capital_p = np.append(change_in_capital_p, investment_p[i] - depreciation_p[i])\n",
    "\n",
    "print(capital_p)\n",
    "print(k_star)\n",
    "print(capital_p[len(time) - 1])\n",
    "print(k_star - capital_p[len(time) - 1])\n",
    "print(\"reaching to the steady-state at\", len(time), \"years with 0.01 difference\")\n",
    "plt.plot(time, output_p, 'green', label = 'yt')\n",
    "plt.plot(time, consumption_p, 'yellow', label = 'ct')\n",
    "plt.plot(time, investment_p, 'red', label = 'it')\n",
    "plt.plot(time, depreciation_p, 'blue', label = '(d+g+n)kt')\n",
    "plt.title(\"Solow - Romer Model(per capita)\")\n",
    "plt.xlabel(\"Years\")\n",
    "plt.ylabel(\"yt, it, ct\")\n",
    "plt.xlim(0,i)\n",
    "plt.legend()\n",
    "plt.show()"
   ]
  },
  {
   "cell_type": "code",
   "execution_count": 5,
   "metadata": {},
   "outputs": [
    {
     "data": {
      "image/png": "[encoded data removed]",
      "text/plain": [
       "<Figure size 432x288 with 1 Axes>"
      ]
     },
     "metadata": {
      "needs_background": "light"
     },
     "output_type": "display_data"
    }
   ],
   "source": [
    "# 3 - 2\n",
    "\n",
    "time = 0\n",
    "population = [L0]\n",
    "knowledge = [A0]\n",
    "capital = [K0]\n",
    "output = [sr_function_output(l, capital[0], alpha, knowledge[0], population[0])]\n",
    "investment = [s * output[0]]\n",
    "depreciation = [(d + g + n) * capital[0]]\n",
    "consumption = [output[0] - investment[0]]\n",
    "change_in_capital = [investment[0] - depreciation[0]]\n",
    "i = 0\n",
    "\n",
    "for i in range(0, 75):\n",
    "    i += 1\n",
    "    time = np.append(time, i)\n",
    "    population = np.append(population, L(L0, n ,time[i]))   # population[i - 1] * (1 + n)\n",
    "    knowledge = np.append(knowledge, A(A0, g, time[i]))  # knowledge[i - 1] * (1 + g)\n",
    "    capital = np.append(capital, capital[i - 1] + change_in_capital[i - 1])\n",
    "    output = np.append(output, sr_function_output(l, capital[i], alpha, knowledge[i], population[i]))\n",
    "    investment = np.append(investment, s * output[i])\n",
    "    depreciation = np.append(depreciation, (d + g + n) * capital[i])\n",
    "    consumption = np.append(consumption, output[i] - investment[i])\n",
    "    change_in_capital = np.append(change_in_capital, investment[i] - depreciation[i])\n",
    "     \n",
    "plt.plot(time, capital, 'black', label = 'Kt')\n",
    "plt.plot(time, output, 'green', label = 'Yt')\n",
    "plt.plot(time, consumption, 'yellow', label = 'Ct')\n",
    "plt.title(\"Solow - Romer Model\")\n",
    "plt.xlabel(\"Years\")\n",
    "plt.ylabel(\"Yt, It, Ct\")\n",
    "plt.yscale(\"log\")\n",
    "plt.xlim(0,i)\n",
    "plt.legend()\n",
    "plt.show()"
   ]
  },
  {
   "cell_type": "code",
   "execution_count": 6,
   "metadata": {},
   "outputs": [
    {
     "name": "stdout",
     "output_type": "stream",
     "text": [
      "2786.2237744698423\n",
      "1079.6886924106086\n",
      "2.3871276837352613\n"
     ]
    }
   ],
   "source": [
    "# 3 - 3\n",
    "\n",
    "print(capital[65])\n",
    "print(population[65])\n",
    "print(knowledge[65])"
   ]
  },
  {
   "cell_type": "code",
   "execution_count": 7,
   "metadata": {},
   "outputs": [
    {
     "name": "stdout",
     "output_type": "stream",
     "text": [
      "k_star_new = 4.102885421661664\n",
      "[1.08104007 1.08094846 1.08086254 1.08078197 1.08070641 1.08063554\n",
      " 1.08056909 1.08050676 1.08044831 1.08039349 1.08034208 0.27015117\n",
      " 0.37189188 0.47829976 0.58703699 0.69639512 0.8051087  0.91223575\n",
      " 1.0170768  1.11911767 1.2179877  1.31342839 1.4052695  1.49341046\n",
      " 1.57780571 1.65845311 1.7353846  1.8086587  1.87835447 1.94456655\n",
      " 2.00740117 2.06697288 2.12340188 2.17681189 2.22732836 2.27507711\n",
      " 2.32018316 2.36276984 2.40295808 2.44086586 2.47660779 2.5102948\n",
      " 2.54203393 2.57192816 2.60007636 2.62657321 2.65150926 2.67497092\n",
      " 2.69704055 2.71779656 2.73731347 2.75566205 2.77290945 2.78911932\n",
      " 2.80435194 2.81866436 2.83211054 2.84474148 2.85660536 2.86774765\n",
      " 2.8782113  2.8880368  2.89726233 2.90592387 2.91405535 2.9216887\n",
      " 2.928854   2.93557957 2.94189207 2.94781655 2.95337663 2.95859449\n",
      " 2.96349098 2.96808573 2.97239719 2.97644267 2.98023847 2.98379991\n",
      " 2.98714135 2.9902763  2.99321746 2.99597674 2.99856534 3.00099376\n",
      " 3.00327188 3.00540896 3.0074137  3.00929427 3.01105833 3.01271308\n",
      " 3.01426527 3.01572125 3.01708695 3.01836798 3.01956955 3.0206966\n",
      " 3.02175373 3.02274528 3.0236753  3.02454761 3.02536579 3.02613318\n",
      " 3.02685294 3.02752802 3.02816119 3.02875505 3.02931204 3.02983444\n",
      " 3.0303244  3.03078393 3.03121493 3.03161915 3.03199827 3.03235385\n",
      " 3.03268733 3.0330001  3.03329344 3.03356856 3.03382658 3.03406858\n",
      " 3.03429554 3.0345084  3.03470804 3.03489527 3.03507087 3.03523556\n",
      " 3.03539001 3.03553487 3.03567072 3.03579814 3.03591763 3.03602971\n",
      " 3.03613481 3.03623339 3.03632584 3.03641254 3.03649386 3.03657012\n",
      " 3.03664165 3.03670873 3.03677164 3.03683064 3.03688597 3.03693787\n",
      " 3.03698654 3.03703218 3.03707499 3.03711514 3.03715279 3.0371881\n",
      " 3.03722122 3.03725228 3.03728141 3.03730873 3.03733435 3.03735838\n",
      " 3.03738091 3.03740205 3.03742187 3.03744046 3.03745789 3.03747424\n",
      " 3.03748958 3.03750396 3.03751745 3.0375301  3.03754196 3.03755308\n",
      " 3.03756352 3.0375733  3.03758248 3.03759109 3.03759916 3.03760673\n",
      " 3.03761383 3.03762049 3.03762674 3.03763259 3.03763808 3.03764324\n",
      " 3.03764807 3.0376526  3.03765685 3.03766083 3.03766457 3.03766807\n",
      " 3.03767136 3.03767445 3.03767734 3.03768005 3.03768259 3.03768498\n",
      " 3.03768721]\n",
      "reaching the the new k_star takes  183 years with 1.0652 value difference\n"
     ]
    },
    {
     "data": {
      "image/png": "[encoded data removed]",
      "text/plain": [
       "<Figure size 432x288 with 1 Axes>"
      ]
     },
     "metadata": {
      "needs_background": "light"
     },
     "output_type": "display_data"
    },
    {
     "data": {
      "image/png": "[encoded data removed]",
      "text/plain": [
       "<Figure size 432x288 with 1 Axes>"
      ]
     },
     "metadata": {
      "needs_background": "light"
     },
     "output_type": "display_data"
    }
   ],
   "source": [
    "# 4 - 1\n",
    "# years need to reach to the new k_star\n",
    "\n",
    "def L(L0, n, time):\n",
    "    return L0 * (1 + n)**(time)\n",
    "\n",
    "def A(A0, g, time):\n",
    "    return A0 * (1 + g)**(time)\n",
    "\n",
    "s = 0.1\n",
    "d = 0.06\n",
    "alpha = 0.33\n",
    "l = 0.01\n",
    "K1 = capital[65]\n",
    "L1 = population[65]\n",
    "A1 = knowledge[65]\n",
    "\n",
    "k_star1 = (1 - l) * (s / (d + g + n))**(1 / (1 - alpha))\n",
    "\n",
    "time = 0\n",
    "population1 = [L1]\n",
    "knowledge1 = [A1]\n",
    "capital1 = [K1]\n",
    "capital_p1 = [capital1[0] / (knowledge1[0] * population1[0])]\n",
    "output1 = [sr_function_output(l, capital1[0], alpha, knowledge1[0], population1[0])]\n",
    "output_p1 = [output_per_person(l, alpha, capital_p1[0])]\n",
    "investment1 = [s * output1[0]]\n",
    "investment_p1 = [s * output_p1[0]]\n",
    "depreciation1 = [(d + g + n) * capital1[0]]\n",
    "depreciation_p1 = [(d + g + n) * capital_p1[0]]\n",
    "consumption1 = [output1[0] - investment1[0]]\n",
    "consumption_p1 = [output_p1[0] - investment_p1[0]]\n",
    "change_in_capital1 = [investment1[0] - depreciation1[0]]\n",
    "change_in_capital_p1 = [investment_p1[0] - depreciation_p1[0]]\n",
    "i = 0\n",
    "\n",
    "for i in range(0, 10):\n",
    "    i += 1\n",
    "    time = np.append(time, i)\n",
    "    population1 = np.append(population1, L(L1, n, time[i]))\n",
    "    knowledge1 = np.append(knowledge1, A(A1, g, time[i]))\n",
    "    capital1 = np.append(capital1, capital1[i - 1] + change_in_capital1[i - 1])\n",
    "    capital_p1 = np.append(capital_p1, capital1[i] / (knowledge1[i] * population1[i]))\n",
    "    output1 = np.append(output1, sr_function_output(l, capital1[i], alpha, knowledge1[i], population1[i]))\n",
    "    output_p1 = np.append(output_p1, output_per_person(l, alpha, capital_p1[i]))\n",
    "    investment1 = np.append(investment1, s * output1[i])\n",
    "    investment_p1 = np.append(investment_p1, s * output_p1[i])\n",
    "    depreciation1 = np.append(depreciation1, (d + g + n) * capital1[i])\n",
    "    depreciation_p1 = np.append(depreciation_p1, (d + g + n) * capital_p1[i])\n",
    "    consumption1 = np.append(consumption1, output_p1[i] - investment_p1[i])\n",
    "    consumption_p1 = np.append(consumption_p1, output_p1[i] - investment_p1[i])\n",
    "    change_in_capital1 = np.append(change_in_capital1, investment1[i] - depreciation1[i])                             \n",
    "#    change_in_capital_p1 = np.append(change_in_capital_p1, investment_p1[i] - depreciation_p1[i])\n",
    "\n",
    "capital1[10] = (capital1[9] / 2)\n",
    "s2 = s * 2\n",
    "A2 = knowledge1[10] * 2\n",
    "k_star_new = (1 - l) * (s2 / (d + g + n))**(1/ (1 - alpha))\n",
    "print(\"k_star_new =\", k_star_new)\n",
    "\n",
    "while (abs(k_star_new - capital_p1[i])) > 1.0652:\n",
    "    i += 1\n",
    "    time = np.append(time, i)\n",
    "    population1 = np.append(population1, L(L1, n, time[i]))\n",
    "    knowledge1 = np.append(knowledge1, A(A2, g, time[i - 10]))\n",
    "    capital1 = np.append(capital1, capital1[i - 1] + change_in_capital1[i - 1])\n",
    "    capital_p1 = np.append(capital_p1, capital1[i] / (knowledge1[i] * population1[i]))\n",
    "    output1 = np.append(output1, sr_function_output(l, capital1[i], alpha, knowledge1[i], population1[i]))\n",
    "    output_p1 = np.append(output_p1, output_per_person(l, alpha, capital_p1[i]))\n",
    "    investment1 = np.append(investment1, s2 * output1[i])\n",
    "    investment_p1 = np.append(investment_p1, s2 * output_p1[i])\n",
    "    depreciation1 = np.append(depreciation1, (d + g + n) * capital1[i])\n",
    "    depreciation_p1 = np.append(depreciation_p1, (d + g + n) * capital_p1[i])\n",
    "    consumption1 = np.append(consumption1,output_p1[i] - investment_p1[i])\n",
    "    consumption_p1 = np.append(consumption_p1, output_p1[i] - investment_p1[i])\n",
    "    change_in_capital1 = np.append(change_in_capital1, investment1[i] - depreciation1[i])                             \n",
    "#    change_in_capital_p1 = np.append(change_in_capital_p1, investment_p1[i] - depreciation_p1[i])\n",
    "\n",
    "print(capital_p1)\n",
    "print(\"reaching the the new k_star takes \", len(time) - 10, \"years with 1.0652 value difference\")\n",
    "\n",
    "plt.plot(time, output_p1, 'green', label = 'yt')\n",
    "plt.plot(time, consumption_p1, 'yellow', label = 'ct')\n",
    "plt.plot(time, investment_p1, 'red', label = 'it')\n",
    "plt.plot(time, depreciation_p1, 'blue', label = '(d+g+n)kt')\n",
    "plt.title(\"Solow - Romer Model(per capita)\")\n",
    "plt.xlabel(\"Years\")\n",
    "plt.ylabel(\"yt, it, ct\")\n",
    "plt.xlim(0,i)\n",
    "plt.legend()\n",
    "plt.show()\n",
    "\n",
    "plt.plot(time, capital1, 'black', label = 'Kt')\n",
    "plt.plot(time, output1, 'green', label = 'Yt')\n",
    "plt.plot(time, consumption1, 'yellow', label = 'Ct')\n",
    "plt.title(\"Solow - Romer Model\")\n",
    "plt.xlabel(\"Years\")\n",
    "plt.ylabel(\"Yt, It, Ct\")\n",
    "plt.yscale(\"log\")\n",
    "plt.xlim(0,i)\n",
    "plt.legend()\n",
    "plt.show()"
   ]
  },
  {
   "cell_type": "code",
   "execution_count": 8,
   "metadata": {},
   "outputs": [
    {
     "name": "stdout",
     "output_type": "stream",
     "text": [
      "Q5)\n",
      "The new steady-state was larger than the old steady-state. Capital became smaller which makes output growth slow. The saving rate got doubled, and knowledge doubled which makes growth faster. In the beginning the economy output will be lower than old steady state but grow faster and becomes slower when it is about to reach to the new steady-state. Eventually they can grow to the larger steady-state than the old steady-state.\n"
     ]
    }
   ],
   "source": [
    "print(\"Q5)\\nThe new steady-state was larger than the old steady-state. Capital became smaller which makes output growth slow. The saving rate got doubled, and knowledge doubled which makes growth faster. In the beginning the economy output will be lower than old steady state but grow faster and becomes slower when it is about to reach to the new steady-state. Eventually they can grow to the larger steady-state than the old steady-state.\") "
   ]
  },
  {
   "cell_type": "code",
   "execution_count": 9,
   "metadata": {},
   "outputs": [
    {
     "name": "stdout",
     "output_type": "stream",
     "text": [
      "[ 3758.07194735  3563.75614671  3576.98845231  3592.8705594\n",
      "  3611.31542625  3632.24273672  3655.57843105  3681.25427492\n",
      "  3709.20746347  3739.38025737  3771.71964837  3822.75715589\n",
      "  3888.55574816  3955.48688812  4023.57006955  4092.82512179\n",
      "  4163.27221546  4234.9318684   4307.82495158  4381.97269522\n",
      "  4457.39669496  9068.23783632  9224.32342056  9383.09560279\n",
      "  9544.60062566  9708.88552774  9875.99815725 10045.98718601\n",
      " 10218.90212356 10394.79333164 10573.71203884 10755.71035548\n",
      " 10940.84128886 11129.15875863 11320.71761254 11515.57364239\n",
      " 11713.7836003  11915.4052152  12120.4972097  12329.11931715\n",
      " 12541.33229904 12757.19796272 12976.77917941 13200.13990244\n",
      " 13427.34518596 13658.46120386 13893.55526903 14132.69585295\n",
      " 14375.95260568 14623.39637611 14875.09923262 15131.13448404\n",
      " 15391.57670101 15656.50173772 15925.98675399 16200.11023773\n",
      " 16478.95202781 16762.59333733 17051.11677723 17344.6063804\n",
      " 17643.14762614 17946.82746501 18255.73434424 18569.9582334\n",
      " 18889.59065069 19214.72468951 19545.45504564 19881.8780448\n",
      " 20224.09167069 20572.19559353 20926.29119912 21286.48161833\n",
      " 21652.87175715 22025.56832727 22404.67987712 22790.31682351\n",
      " 23182.59148376 23581.61810847 23987.51291473 24400.39412002\n",
      " 24820.3819766  25247.59880657 25682.16903746 26124.21923851\n",
      " 26573.8781575  27031.27675826 27496.54825881 27969.82817019\n",
      " 28451.25433586 28940.96697193 29439.10870792 29945.82462838\n",
      " 30461.26231505 30985.57188995 31518.90605903 32061.42015664\n",
      " 32613.27219085 33174.62288937 33745.63574645 34326.47707042\n",
      " 34917.3160322  35518.32471451 36129.67816203 36751.55443238\n",
      " 37384.13464793 38027.60304864 38682.14704562 39347.95727581\n",
      " 40025.22765742 40714.15544647 41414.9412942  42127.78930556\n",
      " 42852.90709857 43590.50586489 44340.80043126 45104.00932209\n",
      " 45880.35482312 46670.06304613 47473.36399484 48290.49163183\n",
      " 49121.68394675 49967.18302562 50827.2351213  51702.09072525\n",
      " 52592.00464048 53497.23605575 54418.04862105 55354.71052443\n",
      " 56307.49457007 57276.67825775]\n",
      "new k_star = 4.102885421661664\n"
     ]
    },
    {
     "data": {
      "text/plain": [
       "<matplotlib.legend.Legend at 0x2ab3fc3fb88>"
      ]
     },
     "execution_count": 9,
     "metadata": {},
     "output_type": "execute_result"
    },
    {
     "data": {
      "image/png": "[encoded data removed]",
      "text/plain": [
       "<Figure size 432x288 with 1 Axes>"
      ]
     },
     "metadata": {
      "needs_background": "light"
     },
     "output_type": "display_data"
    }
   ],
   "source": [
    "# 4 - 1\n",
    "\n",
    "L1 = population[65]\n",
    "A1 = knowledge[65]\n",
    "K1 = (1 - l) * (s / (d + g + n))**(1 / (1 - alpha)) * L1 * A1   # K_star\n",
    "\n",
    "def sr_function_output(l, K, alpha, A, L):\n",
    "    return pow(1- l, 1 - alpha) * pow(K, alpha) * pow(A, 1 - alpha) * pow(L, 1 - alpha)\n",
    "\n",
    "time = 0\n",
    "population1 = [L1]\n",
    "knowledge1 = [A1]\n",
    "capital1 = [K1]\n",
    "output1 = [(1 - l) * (s / (d + g + n))**(alpha / (1 - alpha)) * knowledge[0] * population[0] ]\n",
    "investment1 = [s * output1[0]]\n",
    "depreciation1 = [(d + g + n) * capital1[0]]\n",
    "consumption1 = [output1[0] - investment1[0]]\n",
    "change_in_capital1 = [investment1[0] - depreciation1[0]]\n",
    "i = 0\n",
    "\n",
    "# for i in range(0, 129):\n",
    "for i in range(0, 10):\n",
    "#    if (i < 10):\n",
    "        i += 1\n",
    "        time = np.append(time, i)\n",
    "        population1 = np.append(population1, L(L1, n ,time[i]))\n",
    "        knowledge1 = np.append(knowledge1, A(A1, g, time[i]))\n",
    "        capital1 = np.append(capital1, capital1[i - 1] + change_in_capital1[i - 1])\n",
    "        output1 = np.append(output1, sr_function_output(l, capital1[i], alpha, knowledge1[i], population1[i]))\n",
    "        investment1 = np.append(investment1, s * output1[i])\n",
    "        depreciation1 = np.append(depreciation1, (d + g + n) * capital1[i])\n",
    "        consumption1 = np.append(consumption1, output1[i] - investment1[i])\n",
    "        change_in_capital1 = np.append(change_in_capital1, investment1[i] - depreciation1[i])\n",
    "#    else:\n",
    "for i in range(10, 129):\n",
    "        i += 1\n",
    "        K2 = capital1[10] / 2\n",
    "        s = 0.1 * 2\n",
    "        A2 = knowledge1[10] * 2\n",
    "        L2 = population1[10]\n",
    "        time = np.append(time, i)\n",
    "        population1 = np.append(population1, L(L2, n, time[i - 10]))\n",
    "        knowledge1 = np.append(knowledge1, A(A2, g, time[i - 10]))\n",
    "        capital1 = np.append(capital1, k_star * knowledge1[i - 10] * population1[i - 10])\n",
    "        output1 = np.append(output1, sr_function_output(l, capital1[i - 10], alpha, knowledge1[i - 10], population1[i - 10]))\n",
    "        investment1 = np.append(investment1, s * output1[i - 10])\n",
    "        depreciation1 = np.append(depreciation1, (d + g + n) * capital1[i - 10])\n",
    "        consumption1 = np.append(consumption1, output1[i - 10] - investment1[i - 10])\n",
    "        change_in_capital1 = np.append(change_in_capital1, investment1[i] - depreciation1[i])\n",
    "        \n",
    "k_star_new = (1 - l) * (s / (d + g + n))**(1/ (1 - alpha))\n",
    "\n",
    "print(capital1)\n",
    "print(\"new k_star =\", k_star_new)\n",
    "plt.plot(time, capital1, 'black', label = 'Kt')\n",
    "plt.plot(time, output1, 'green', label = 'Yt')\n",
    "plt.plot(time, consumption1, 'yellow', label = 'Ct')\n",
    "plt.title(\"Solow - Romer Model\")\n",
    "plt.xlabel(\"Years\")\n",
    "plt.ylabel(\"Yt, It, Ct\")\n",
    "plt.xlim(0,i)\n",
    "plt.yscale('log')\n",
    "plt.legend()"
   ]
  },
  {
   "cell_type": "code",
   "execution_count": 10,
   "metadata": {},
   "outputs": [
    {
     "name": "stdout",
     "output_type": "stream",
     "text": [
      "k_star_new = 4.102885421661664\n",
      "[0.30845301 0.41940872 0.53618511 0.6565443  0.77879501 0.90163691\n",
      " 1.0240601  1.14527646 1.2646708  1.38176497 1.49619066 1.60766838\n",
      " 1.71599097 1.82101044 1.9226273  2.02078195 2.11544752 2.20662397\n",
      " 2.29433326 2.37861521 2.45952409 2.53712575 2.61149523 2.68271465\n",
      " 2.75087156 2.81605747 2.87836664 2.93789504 2.99473949 3.04899697\n",
      " 3.10076401 3.15013616 3.19720765 3.24207101 3.2848168  3.32553344\n",
      " 3.36430701 3.40122113 3.43635688 3.46979273 3.50160452 3.53186542\n",
      " 3.56064595 3.588014   3.61403483 3.63877116 3.66228315 3.68462854\n",
      " 3.70586262 3.72603837 3.74520647 3.76341541 3.78071154 3.79713913\n",
      " 3.81274049 3.82755599 3.84162415 3.85498172 3.86766375 3.87970364\n",
      " 3.89113321 3.9019828  3.91228128 3.92205616 3.93133362 3.94013857\n",
      " 3.94849472 3.95642464 3.96394976 3.97109051 3.97786629 3.98429553\n",
      " 3.99039578 3.99618371 4.00167516 4.00688517 4.01182806 4.01651741\n",
      " 4.02096612 4.02518646 4.02919007 4.03298801 4.03659079 4.04000837\n",
      " 4.04325023 4.04632535 4.04924226 4.05200908 4.05463348 4.05712277\n",
      " 4.05948389 4.06172339 4.06384754 4.06586224 4.06777312 4.06958552\n",
      " 4.07130449 4.07293484 4.07448113 4.07594767 4.07733858 4.07865775\n",
      " 4.07990887 4.08109543 4.08222078 4.08328805 4.08430025 4.08526021\n",
      " 4.08617062 4.08703403 4.08785287 4.08862944 4.08936592 4.09006437\n",
      " 4.09072675 4.09135493 4.09195067 4.09251564 4.09305144]\n",
      "reaching the the new k_star takes  119 years\n"
     ]
    }
   ],
   "source": [
    "# years need to reach to the new k_star\n",
    "\n",
    "K3 = capital1[10] / 2\n",
    "s = 0.1 * 2\n",
    "A3 = knowledge1[10] * 2\n",
    "L3 = population1[10]\n",
    "\n",
    "time = 0\n",
    "population2 = [L3]\n",
    "knowledge2 = [A3]\n",
    "capital_p2 = [K3 / (population2[0] * knowledge2[0])]\n",
    "output_p2 = [output_per_person(l, alpha, capital_p2[0])]\n",
    "investment_p2 = [s * output_p2[0]]\n",
    "depreciation_p2 = [(d + g + n) * capital_p2[0]]\n",
    "consumption_p2 = [output_p2[0] - investment_p2[0]]\n",
    "change_in_capital_p2 = [investment_p2[0] - depreciation_p2[0]]\n",
    "i = 0\n",
    "\n",
    "k_star_new = (1 - l) * (s / (d + g + n))**(1/ (1 - alpha))\n",
    "print(\"k_star_new =\", k_star_new)\n",
    "\n",
    "while (abs(k_star_new - capital_p2[i])) > 0.01:\n",
    "    i += 1\n",
    "    time = np.append(time, i)\n",
    "    population2 = np.append(population2, L(L3, n, time[i]))\n",
    "    knowledge2 = np.append(knowledge2, A(A3, g, time[i]))\n",
    "    capital_p2 = np.append(capital_p2, capital_p2[i - 1] + change_in_capital_p2[i - 1])\n",
    "    output_p2 = np.append(output_p2, output_per_person(l, alpha, capital_p2[i]))\n",
    "    investment_p2 = np.append(investment_p2, s * output_p2[i])\n",
    "    depreciation_p2 = np.append(depreciation_p2, (d + g + n) * capital_p2[i])\n",
    "    consumption_p2 = np.append(consumption_p2, output_p2[i] - investment_p2[i])\n",
    "    change_in_capital_p2 = np.append(change_in_capital_p2, investment_p2[i] - depreciation_p2[i])\n",
    "        \n",
    "print(capital_p2)\n",
    "print(\"reaching the the new k_star takes \", len(time), \"years\")"
   ]
  }
 ],
 "metadata": {
  "kernelspec": {
   "display_name": "Python 3",
   "language": "python",
   "name": "python3"
  },
  "language_info": {
   "codemirror_mode": {
    "name": "ipython",
    "version": 3
   },
   "file_extension": ".py",
   "mimetype": "text/x-python",
   "name": "python",
   "nbconvert_exporter": "python",
   "pygments_lexer": "ipython3",
   "version": "3.7.4"
  }
 },
 "nbformat": 4,
 "nbformat_minor": 4
}
