{
 "cells": [
  {
   "cell_type": "code",
   "execution_count": 51,
   "metadata": {},
   "outputs": [
    {
     "name": "stdout",
     "output_type": "stream",
     "text": [
      "1.6228816518671587\n",
      "0.01\n"
     ]
    },
    {
     "data": {
      "image/png": "[encoded data removed]",
      "text/plain": [
       "<Figure size 432x288 with 1 Axes>"
      ]
     },
     "metadata": {
      "needs_background": "light"
     },
     "output_type": "display_data"
    }
   ],
   "source": [
    "import numpy as np\n",
    "import pandas as pd\n",
    "import matplotlib.pyplot as plt\n",
    "\n",
    "K0 = 100\n",
    "A0 = 100\n",
    "L0 = 100\n",
    "d = 0.15\n",
    "s = 0.4\n",
    "l = 0.1\n",
    "n = 0.1\n",
    "z = 1/500\n",
    "alpha = 1/3\n",
    "\n",
    "time = 0\n",
    "\n",
    "def L(L0, n, time):\n",
    "    return L0 * (1 + n)**(time)\n",
    "\n",
    "def A(L0, g, time):\n",
    "    return A0 * (1 + g)**(time)\n",
    "\n",
    "def output_per_person(l, alpha, capital_per_person):\n",
    "    return (1 - l) ** (1 - alpha) * (capital_per_person) ** (alpha)\n",
    "\n",
    "g = [z * l * L(L0, n, time)]\n",
    "population = [L0]\n",
    "knowledge = [A0]\n",
    "capital_p = [K0/(knowledge[0] * population[0])]\n",
    "output_p = [output_per_person(l, alpha, capital_p[0])]\n",
    "investment = [s * output_p[0]]\n",
    "depreciation = [(d + g[0] + n) * capital_p[0]]\n",
    "change_in_capital = [investment[0] - depreciation[0]]\n",
    "i = 0\n",
    "\n",
    "k_star = [(1 - l) * pow(s / (d + g[0] + n), 1 / (1-alpha))]\n",
    "\n",
    "# i < len(g)\n",
    "while (abs(capital_p[i] - k_star[i])) > 0.1:\n",
    "    time = np.append(time, i)\n",
    "    g = np.append(g, z * l * population[i])\n",
    "    k_star = np.append(k_star, (1 - l) * (s/(d + g[i] + n)**(1/(1 - alpha))))\n",
    "    capital_p = np.append(capital_p, capital_p[i - 1] + change_in_capital[i - 1])\n",
    "    population = np.append(population, L(L0, n, time[i]))\n",
    "    knowledge = np.append(knowledge, A(A0, g[i], time[i]))\n",
    "    output_p = np.append(output_p,output_per_person(l, alpha, capital_p[i]))\n",
    "    investment = np.append(investment, s * output_p[i])\n",
    "    depreciation = np.append(depreciation, (d + g[i] + n) * capital_p[i])\n",
    "    change_in_capital = np.append(change_in_capital, investment[i] - depreciation[i])\n",
    "    i += 1\n",
    "    \n",
    "# print(len(time))\n",
    "print(k_star[0])\n",
    "print(capital_p[0])\n",
    "\n",
    "plt.plot(time, output_p, 'red')\n",
    "plt.plot(time, investment, 'green')\n",
    "plt.plot(time, depreciation, 'black')\n",
    "plt.xlim(0, i)\n",
    "plt.show()"
   ]
  },
  {
   "cell_type": "code",
   "execution_count": 65,
   "metadata": {},
   "outputs": [
    {
     "name": "stdout",
     "output_type": "stream",
     "text": [
      "[0.60719401 1.35772709 1.35772709 1.35772709 1.34993154 1.34144223\n",
      " 1.33220628 1.32216852 1.31127176 1.29945715 1.28666463 1.27283352\n",
      " 1.25790323 1.24181412 1.22450851 1.20593181 1.18603388 1.1647705\n",
      " 1.14210494 1.11800973 1.09246841 1.0654774  1.03704778 1.00720698\n",
      " 0.97600033 0.94349227 0.90976722 0.87493004 0.83910583 0.80243921\n",
      " 0.76509292 0.72724569 0.68908953 0.65082636 0.61266418 0.57481285\n",
      " 0.5374797  0.50086513 0.46515836 0.43053358 0.39714664 0.36513232\n",
      " 0.33460249 0.30564493 0.27832305]\n",
      "45\n"
     ]
    },
    {
     "data": {
      "image/png": "[encoded data removed]",
      "text/plain": [
       "<Figure size 432x288 with 1 Axes>"
      ]
     },
     "metadata": {
      "needs_background": "light"
     },
     "output_type": "display_data"
    }
   ],
   "source": [
    "import numpy as np\n",
    "import pandas as pd\n",
    "import matplotlib.pyplot as plt\n",
    "\n",
    "K0 = 100\n",
    "A0 = 50\n",
    "L0 = 50\n",
    "d = 0.15\n",
    "s = 0.2\n",
    "l = 0.1\n",
    "n = 0.1\n",
    "z = 1/500\n",
    "alpha = 1/3\n",
    "\n",
    "time = 0\n",
    "\n",
    "def L(L0, n, time):\n",
    "    return L0 * (1 + n)**(time)\n",
    "\n",
    "def A(L0, g, time):\n",
    "    return A0 * (1 + g)**(time)\n",
    "\n",
    "# def output_per_person(l, alpha, capital, knowledge, population):\n",
    "#    return (1 - l) ** (1 - alpha) * (capital)** (alpha) * (1 / (knowledge * population)) ** (alpha)\n",
    "\n",
    "def output_per_person(l, alpha, capital_per_person):\n",
    "    return (1 - l) ** (1 - alpha) * (capital_per_person)** (alpha)\n",
    "\n",
    "g = [z * l * L(L0, n, time)]\n",
    "population = [L0]\n",
    "knowledge = [A0]\n",
    "# capital = [K0]\n",
    "capital_p = [K0/(knowledge[0] * population[0])]\n",
    "output_p = [output_per_person(l, alpha, capital_p[0])]\n",
    "# output_p = [output_per_person(l, alpha, capital[0], knowledge[0], population[0])]\n",
    "investment = [s * output_p[0]]\n",
    "# depreciation = [(d + g[0] + n) * (capital_p[0] / (knowledge[0] * population[0]))]\n",
    "depreciation = [(d + g[0] + n) * capital_p[0]]\n",
    "change_in_capital = [investment[0] - depreciation[0]]\n",
    "i = 0\n",
    "\n",
    "k_star = [(1 - l) * pow(s / (d + g[0] + n), 1 / (1 - alpha))]\n",
    "\n",
    "# i < len(g)\n",
    "while (abs(capital_p[i] - k_star[i])) > 0.1:\n",
    "# for i in range(0, 30):\n",
    "    time = np.append(time, i)\n",
    "    g = np.append(g, z * l * L(L0, n, time[i]))\n",
    "    k_star = np.append(k_star, (1 - l) * (s/(d + g[i] + n)**(1/(1 - alpha))))\n",
    "    capital_p = np.append(capital_p, capital_p[i - 1] + change_in_capital[i - 1])\n",
    "#    capital = np.append(capital, capital[i - 1] + change_in_capital[i - 1])\n",
    "    population = np.append(population, L(L0, n, time[i]))\n",
    "    knowledge = np.append(knowledge, A(A0, g[i], time[i]))\n",
    "    output_p = np.append(output_p,output_per_person(l, alpha, capital_p[i]))\n",
    "#    output_p = np.append(output_p,output_per_person(l, alpha, capital[i], knowledge[i], population[i]))\n",
    "    investment = np.append(investment, s * output_p[i])\n",
    "#    depreciation = np.append(depreciation, (d + g[i] + n) * (capital[i] / (knowledge [i] * population[i])))\n",
    "    depreciation = np.append(depreciation, (d + g[i] + n) * capital_p[i])\n",
    "    change_in_capital = np.append(change_in_capital, investment[i] - depreciation[i])\n",
    "    i += 1\n",
    "    \n",
    "# print(len(time))\n",
    "print(k_star)\n",
    "print(len(g))\n",
    "\n",
    "plt.plot(time, output_p, 'red')\n",
    "plt.plot(time, investment, 'green')\n",
    "plt.plot(time, depreciation, 'black')\n",
    "plt.show()"
   ]
  },
  {
   "cell_type": "code",
   "execution_count": 49,
   "metadata": {},
   "outputs": [
    {
     "name": "stdout",
     "output_type": "stream",
     "text": [
      "21\n"
     ]
    },
    {
     "data": {
      "image/png": "[encoded data removed]",
      "text/plain": [
       "<Figure size 432x288 with 1 Axes>"
      ]
     },
     "metadata": {
      "needs_background": "light"
     },
     "output_type": "display_data"
    }
   ],
   "source": [
    "import numpy as np\n",
    "import pandas as pd\n",
    "import matplotlib.pyplot as plt\n",
    "\n",
    "K0 = 100\n",
    "A0 = 100\n",
    "L0 = 100\n",
    "d = 0.15\n",
    "s = 0.4\n",
    "l = 0.1\n",
    "n = 0.1\n",
    "z = 1/500\n",
    "alpha = 1/3\n",
    "\n",
    "def sr_function_output(l, K, alpha, A, L):\n",
    "    return (1 - l)**(1 - alpha) * K**(alpha) * (A * L)**(1 - alpha)\n",
    " \n",
    "def L(L0, n, time):\n",
    "    return L0 * (1 + n)**(time)\n",
    "\n",
    "def A(A0, g, time):\n",
    "    return A0 * (1 + g)**(time)\n",
    "\n",
    "time = 0\n",
    "g = [z * l * L(L0, n, time)]\n",
    "capital = [K0]\n",
    "population = [L0]\n",
    "knowledge = [A0]\n",
    "output = [sr_function_output(l, capital[0], alpha, knowledge[0], population[0])]\n",
    "investment = [s * output[0]]\n",
    "depreciation = [(d + g[0] + n) * capital[0]]\n",
    "change_in_capital = [investment[0] - depreciation[0]]\n",
    "i = 0\n",
    "\n",
    "K_star = [(1 - l) * (s/(d+g[0]+n))**(1/(1 - alpha)) * knowledge[0] * population[0]]\n",
    "\n",
    "# while (abs(capital[i] - K_star[i])) > 1:\n",
    "for i in range(0, 20):\n",
    "    time = np.append(time, i)\n",
    "    g = np.append(g, z * l * population[i])\n",
    "    K_star = np.append(K_star, (1 - l) * (s/(d+g[i]+n))**(1/(1 - alpha)) * knowledge[i] * population[i])\n",
    "    capital = np.append(capital, capital[i - 1] + change_in_capital[i - 1])\n",
    "    population = np.append(population, L(L0, n, time[i]))\n",
    "    knowledge = np.append(knowledge, A(A0, g[i], time[i]))\n",
    "    output = np.append(output, sr_function_output(l, capital[i], alpha, knowledge[i], population[i]))\n",
    "    investment = np.append(investment, s * output[i])\n",
    "    depreciation = np.append(depreciation, (d + g[i] + n) * capital[i])\n",
    "    change_in_capital = np.append(change_in_capital, investment[i] - depreciation[i])\n",
    "#    i += 1\n",
    "\n",
    "# Y_star = (a - l) * (s / (d + g[i] + n))**(alpha / (1 - alpha)) * knowledge[i] * population[i]\n",
    "# print(output[110])\n",
    "print(len(time))\n",
    "\n",
    "plt.plot(time, output, 'red')\n",
    "plt.plot(time, investment, 'black')\n",
    "plt.plot(time, depreciation, 'yellow')\n",
    "plt.show()"
   ]
  },
  {
   "cell_type": "code",
   "execution_count": 50,
   "metadata": {},
   "outputs": [
    {
     "name": "stderr",
     "output_type": "stream",
     "text": [
      "C:\\Users\\Jae\\Anaconda3\\lib\\site-packages\\ipykernel_launcher.py:22: RuntimeWarning: overflow encountered in double_scalars\n",
      "C:\\Users\\Jae\\Anaconda3\\lib\\site-packages\\ipykernel_launcher.py:16: RuntimeWarning: overflow encountered in double_scalars\n",
      "  app.launch_new_instance()\n",
      "C:\\Users\\Jae\\Anaconda3\\lib\\site-packages\\ipykernel_launcher.py:38: RuntimeWarning: invalid value encountered in double_scalars\n"
     ]
    },
    {
     "name": "stdout",
     "output_type": "stream",
     "text": [
      "122\n"
     ]
    },
    {
     "data": {
      "image/png": "[encoded data removed]",
      "text/plain": [
       "<Figure size 432x288 with 1 Axes>"
      ]
     },
     "metadata": {
      "needs_background": "light"
     },
     "output_type": "display_data"
    }
   ],
   "source": [
    "import numpy as np\n",
    "import pandas as pd\n",
    "import matplotlib.pyplot as plt\n",
    "\n",
    "K0 = 100\n",
    "A0 = 50\n",
    "L0 = 50\n",
    "d = 0.15\n",
    "s = 0.2\n",
    "l = 0.1\n",
    "n = 0.1\n",
    "z = 1/500\n",
    "alpha = 1/3\n",
    "\n",
    "def sr_function_output(l, K, alpha, A, L):\n",
    "    return (1 - l)**(1 - alpha) * K**(alpha) * (A * L)**(1 - alpha)\n",
    " \n",
    "def L(L0, n, time):\n",
    "    return L0 * (1 + n)**(time)\n",
    "\n",
    "def A(A0, g, time):\n",
    "    return A0 * (1 + g)**(time)\n",
    "\n",
    "time = 0\n",
    "g = [z * l * L(L0, n, time)]\n",
    "\n",
    "capital = [K0]\n",
    "population = [L0]\n",
    "knowledge = [A0]\n",
    "output = [sr_function_output(l, K0, alpha, A0, L0)]\n",
    "investment = [s * output[0]]\n",
    "depreciation = [(d + g[0] +n) * capital[0]]\n",
    "change_in_capital = [investment[0] - depreciation[0]]\n",
    "i = 0\n",
    "\n",
    "K_star = np.array([(1 - l) * (s/(d+g[0]+n))**(1/(1 - alpha)) * A(A0, g[0], time) * L(L0, n, time)])\n",
    "\n",
    "while (abs(capital[i] - K_star[i])) > 1:\n",
    "    time = np.append(time, i)\n",
    "    g = np.append(g, z * l * population[i])\n",
    "    capital = np.append(capital, capital[i - 1] + change_in_capital[i - 1])\n",
    "    K_star = np.append(K_star, (1 - l) * (s/(d+g[i]+n))**(1/(1 - alpha)) * A(A0, g[i], time[i]) * L(L0, n, time[i]))\n",
    "    population = np.append(population, L(L0, n, time[i]))\n",
    "    knowledge = np.append(knowledge, A(A0, g[i], time[i]))\n",
    "    output = np.append(output, sr_function_output(l, capital[i], alpha, knowledge[i], population[i]))\n",
    "    investment = np.append(investment, s * output[i])\n",
    "    depreciation = np.append(depreciation, (d + g[i] + n) * capital[i])\n",
    "    change_in_capital = np.append(change_in_capital, investment[i] - depreciation[i])\n",
    "    i += 1\n",
    "  \n",
    "print(len(time))\n",
    "\n",
    "plt.plot(time, output, 'red')\n",
    "plt.plot(time, investment, 'green')\n",
    "plt.plot(time, depreciation, 'yellow')\n",
    "plt.yscale(\"log\")\n",
    "plt.show()"
   ]
  },
  {
   "cell_type": "code",
   "execution_count": null,
   "metadata": {},
   "outputs": [],
   "source": []
  }
 ],
 "metadata": {
  "kernelspec": {
   "display_name": "Python 3",
   "language": "python",
   "name": "python3"
  },
  "language_info": {
   "codemirror_mode": {
    "name": "ipython",
    "version": 3
   },
   "file_extension": ".py",
   "mimetype": "text/x-python",
   "name": "python",
   "nbconvert_exporter": "python",
   "pygments_lexer": "ipython3",
   "version": "3.7.4"
  }
 },
 "nbformat": 4,
 "nbformat_minor": 4
}
