{
 "cells": [
  {
   "cell_type": "markdown",
   "metadata": {},
   "source": [
    "## Jae Wook Jung\n",
    "## 151342596"
   ]
  },
  {
   "cell_type": "code",
   "execution_count": 1,
   "metadata": {},
   "outputs": [],
   "source": [
    "import numpy as np\n",
    "import pandas as pd\n",
    "import matplotlib.pyplot as plt"
   ]
  },
  {
   "cell_type": "markdown",
   "metadata": {},
   "source": [
    "# 1Q)"
   ]
  },
  {
   "cell_type": "code",
   "execution_count": 2,
   "metadata": {},
   "outputs": [
    {
     "name": "stdout",
     "output_type": "stream",
     "text": [
      "0     101908250.000000000000\n",
      "1     103084250.000000000000\n",
      "2     103598750.000000000000\n",
      "3     105470416.666666666667\n",
      "4     107333750.000000000000\n",
      "               ...          \n",
      "56        205502750.00000000\n",
      "57        205537500.00000000\n",
      "58        206507750.00000000\n",
      "59        206269916.66666667\n",
      "60                         .\n",
      "Name: POP, Length: 61, dtype: object\n",
      "0     0.667344\n",
      "1     0.689067\n",
      "2     0.684990\n",
      "3     0.692469\n",
      "4     0.693722\n",
      "        ...   \n",
      "59    1.007524\n",
      "60    1.013102\n",
      "61    1.021562\n",
      "62    1.022072\n",
      "63    1.030535\n",
      "Name: TFP, Length: 64, dtype: float64\n",
      "205537500.00000000\n",
      "113688166.66666667\n",
      "1.0305346250534058\n",
      "0.7937018871307373\n",
      "0.011913794134144284\n",
      "0.005236162356891727\n",
      "population growth rate:  0.01\n",
      "TFP growth rate:  0.01\n"
     ]
    }
   ],
   "source": [
    "POP = pd.read_csv(r\"C:\\Users\\Jae\\Desktop\\Econ 381\\homework\\midexam\\population.csv\", header = 0, names = [\"Date\", \"POP\"])\n",
    "TFP = pd.read_csv(r\"C:\\Users\\Jae\\Desktop\\Econ 381\\homework\\W07\\TFP.csv\", header = 0, names = [\"Date\", \"TFP\"])\n",
    "\n",
    "Date_pop = np.array(POP[\"Date\"], dtype = np.datetime64)\n",
    "Date_tfp = np.array(TFP[\"Date\"], dtype = np.datetime64)\n",
    "print(POP['POP'])\n",
    "print(TFP['TFP'])\n",
    "print(POP['POP'][57])   ## 2017/01/01\n",
    "print(POP['POP'][8]) \n",
    "print(TFP['TFP'][63])   ## 2017/01/01\n",
    "print(TFP['TFP'][14])\n",
    "\n",
    "n = (float(POP['POP'][57]) / float(POP['POP'][8]))**(1/50) - 1\n",
    "g = (TFP['TFP'][63] / TFP['TFP'][14])**(1/50) - 1\n",
    "print(n)\n",
    "print(g)\n",
    "print(\"population growth rate: \", '{:.2f}'. format(n))\n",
    "print(\"TFP growth rate: \", '{:.2f}'. format(g))\n"
   ]
  },
  {
   "cell_type": "markdown",
   "metadata": {},
   "source": [
    "# Q2)"
   ]
  },
  {
   "cell_type": "code",
   "execution_count": 3,
   "metadata": {},
   "outputs": [
    {
     "name": "stdout",
     "output_type": "stream",
     "text": [
      "1.458112012665608\n",
      "k_star = 1.46\n"
     ]
    }
   ],
   "source": [
    "s=0.1\n",
    "d=0.06\n",
    "alpha=0.33\n",
    "l=0.01\n",
    "\n",
    "k_star = (1 - l) * (s / (d + g + n))**(1 / (1 - alpha))\n",
    "print(k_star)\n",
    "print(\"k_star = \"'{:.2f}'. format(k_star))"
   ]
  },
  {
   "cell_type": "markdown",
   "metadata": {},
   "source": [
    "# Q3)"
   ]
  },
  {
   "cell_type": "code",
   "execution_count": 4,
   "metadata": {},
   "outputs": [
    {
     "name": "stdout",
     "output_type": "stream",
     "text": [
      "[1.17647059 1.19050739 1.20387226 1.21659434 1.22870189 1.2402222\n",
      " 1.25118163 1.26160561 1.27151861 1.28094418 1.28990495 1.29842263\n",
      " 1.30651807 1.31421125 1.32152129 1.32846653 1.33506448 1.34133189\n",
      " 1.34728478 1.35293844 1.35830748 1.36340583 1.36824679 1.37284304\n",
      " 1.37720667 1.38134918 1.38528158 1.3890143  1.3925573  1.39592007\n",
      " 1.39911163 1.40214055 1.40501501 1.40774279 1.41033127 1.41278747\n",
      " 1.41511809 1.41732947 1.41942766 1.42141839 1.42330711 1.42509901\n",
      " 1.42679901 1.42841179 1.42994179 1.43139323 1.43277012 1.43407626\n",
      " 1.43531527 1.43649058 1.43760544 1.43866296 1.43966606 1.44061753\n",
      " 1.44152003 1.44237606 1.443188   1.44395812 1.44468856 1.44538137\n",
      " 1.44603847 1.4466617  1.4472528  1.44781342 1.44834514]\n",
      "1.458112012665608\n",
      "1.448345139609795\n",
      "0.009766873055812919\n",
      "reaching to the steady-state at 65 years with 0.01 difference to the steady-state.\n"
     ]
    },
    {
     "data": {
      "image/png": "[encoded data removed]",
      "text/plain": [
       "<Figure size 432x288 with 1 Axes>"
      ]
     },
     "metadata": {
      "needs_background": "light"
     },
     "output_type": "display_data"
    }
   ],
   "source": [
    "# 3 - 1\n",
    "\n",
    "K0=1000\n",
    "L0=500\n",
    "A0=1.7\n",
    "\n",
    "def L(L0, n, time):\n",
    "    return L0 * (1 + n)**(time)\n",
    "\n",
    "def A(A0, g, time):\n",
    "    return A0 * (1 + g)**(time)\n",
    "\n",
    "def output_per_person(l, alpha, capital_per_person):\n",
    "    return  pow(capital_per_person, alpha) * pow(1- l, 1- alpha)\n",
    "\n",
    "def sr_function_output(l, K, alpha, A, L):\n",
    "    return pow(1- l, 1 - alpha) * pow(K, alpha) * pow(A, 1 - alpha) * pow(L, 1 - alpha)\n",
    "\n",
    "time = 0\n",
    "population = [L0]\n",
    "knowledge = [A0]\n",
    "capital = [K0]\n",
    "capital_p = [capital[0] / (knowledge[0] * population[0])]\n",
    "output = [sr_function_output(l, capital[0], alpha, knowledge[0], population[0])]\n",
    "output_p = [output_per_person(l, alpha, capital_p[0])]\n",
    "investment = [s * output[0]]\n",
    "investment_p = [s * output_p[0]]\n",
    "depreciation = [(d + g + n) * capital[0]]\n",
    "depreciation_p = [(d + g + n) * capital_p[0]]\n",
    "consumption = [output[0] - investment[0]]\n",
    "consumption_p = [output_p[0] - investment_p[0]]\n",
    "change_in_capital = [investment[0] - depreciation[0]]\n",
    "change_in_capital_p = [investment_p[0] - depreciation_p[0]]\n",
    "i = 0\n",
    "\n",
    "while (abs(k_star - capital_p[i])) > 0.01:\n",
    "    i += 1\n",
    "    time = np.append(time, i)\n",
    "    population = np.append(population, L(L0, n, time[i]))    # population[i - 1] * (1 + n)\n",
    "    knowledge = np.append(knowledge, A(A0, g, time[i]))  # knowledge[i - 1] * (1 + g)\n",
    "    capital_p = np.append(capital_p, capital_p[i - 1] + change_in_capital_p[i - 1])\n",
    "    output_p = np.append(output_p, output_per_person(l, alpha, capital_p[i]))\n",
    "    investment_p = np.append(investment_p, s * output_p[i])\n",
    "    depreciation_p = np.append(depreciation_p, (d + g + n) * capital_p[i])\n",
    "    consumption_p = np.append(consumption_p, output_p[i] - investment_p[i])\n",
    "    change_in_capital_p = np.append(change_in_capital_p, investment_p[i] - depreciation_p[i])\n",
    "\n",
    "print(capital_p)\n",
    "print(k_star)\n",
    "print(capital_p[len(time) - 1])\n",
    "print(k_star - capital_p[len(time) - 1])\n",
    "print(\"reaching to the steady-state at\", len(time), \"years with 0.01 difference to the steady-state.\")\n",
    "plt.plot(time, output_p, 'green', label = 'yt')\n",
    "plt.plot(time, consumption_p, 'yellow', label = 'ct')\n",
    "plt.plot(time, investment_p, 'red', label = 'it')\n",
    "plt.plot(time, depreciation_p, 'blue', label = '(d+g+n)kt')\n",
    "plt.title(\"Solow - Romer Model(per capita)\")\n",
    "plt.xlabel(\"Years\")\n",
    "plt.ylabel(\"yt, it, ct\")\n",
    "plt.xlim(0,i)\n",
    "plt.legend()\n",
    "plt.show()"
   ]
  },
  {
   "cell_type": "code",
   "execution_count": 5,
   "metadata": {},
   "outputs": [
    {
     "data": {
      "image/png": "[encoded data removed]",
      "text/plain": [
       "<Figure size 432x288 with 1 Axes>"
      ]
     },
     "metadata": {
      "needs_background": "light"
     },
     "output_type": "display_data"
    }
   ],
   "source": [
    "# 3 - 2\n",
    "\n",
    "time = 0\n",
    "population = [L0]\n",
    "knowledge = [A0]\n",
    "capital = [K0]\n",
    "output = [sr_function_output(l, capital[0], alpha, knowledge[0], population[0])]\n",
    "investment = [s * output[0]]\n",
    "depreciation = [(d + g + n) * capital[0]]\n",
    "consumption = [output[0] - investment[0]]\n",
    "change_in_capital = [investment[0] - depreciation[0]]\n",
    "i = 0\n",
    "\n",
    "for i in range(0, 75):\n",
    "    i += 1\n",
    "    time = np.append(time, i)\n",
    "    population = np.append(population, L(L0, n ,time[i]))\n",
    "    knowledge = np.append(knowledge, A(A0, g, time[i]))\n",
    "    capital = np.append(capital, capital[i - 1] + change_in_capital[i - 1])\n",
    "    output = np.append(output, sr_function_output(l, capital[i], alpha, knowledge[i], population[i]))\n",
    "    investment = np.append(investment, s * output[i])\n",
    "    depreciation = np.append(depreciation, (d + g + n) * capital[i])\n",
    "    consumption = np.append(consumption, output[i] - investment[i])\n",
    "    change_in_capital = np.append(change_in_capital, investment[i] - depreciation[i])\n",
    "     \n",
    "plt.plot(time, capital, 'black', label = 'Kt')\n",
    "plt.plot(time, output, 'green', label = 'Yt')\n",
    "plt.plot(time, consumption, 'yellow', label = 'Ct')\n",
    "plt.title(\"Solow - Romer Model\")\n",
    "plt.xlabel(\"Years\")\n",
    "plt.ylabel(\"Yt, It, Ct\")\n",
    "plt.yscale(\"log\")\n",
    "plt.xlim(0,i)\n",
    "plt.legend()\n",
    "plt.show()"
   ]
  },
  {
   "cell_type": "code",
   "execution_count": 6,
   "metadata": {},
   "outputs": [
    {
     "name": "stdout",
     "output_type": "stream",
     "text": [
      "2786.2237744698423\n",
      "1079.6886924106086\n",
      "2.3871276837352613\n"
     ]
    }
   ],
   "source": [
    "# 3 - 3\n",
    "\n",
    "print(capital[65])\n",
    "print(population[65])\n",
    "print(knowledge[65])"
   ]
  },
  {
   "cell_type": "markdown",
   "metadata": {},
   "source": [
    "# Q4)"
   ]
  },
  {
   "cell_type": "code",
   "execution_count": 7,
   "metadata": {},
   "outputs": [
    {
     "name": "stdout",
     "output_type": "stream",
     "text": [
      "k_star_new = 4.102885421661664\n",
      "[  2786.22377447   2833.94102564   2882.49065957   2931.88649409\n",
      "   2982.14260834   3033.27334625   3085.29332001   3138.21741371\n",
      "   3192.06078711   3246.83887942   1623.41943971   1680.11442534\n",
      "   2352.66631839   3077.90645412   3842.66337754   4636.96922406\n",
      "   5453.11469196   6285.05118072   7127.99027548   7978.12296442\n",
      "   8832.41553532   9688.45682767  10544.34118689  11398.57702733\n",
      "  12250.01425604  13097.78590317  13941.26066056  14780.00393492\n",
      "  15613.74564256  16442.35340748  17265.81013686  18084.1951756\n",
      "  18897.66841101  19706.45682634  20510.84309968  21311.15592023\n",
      "  22107.76175358  22901.05783448  23691.46620302  24479.42863075\n",
      "  25265.40230772  26049.85618156  26833.26785658  27616.12097436\n",
      "  28398.90300913  29182.10342066  29966.21211546  30751.71817432\n",
      "  31539.10880958  32328.86852079  33121.47842159  33917.41571423\n",
      "  34717.15329142  35521.15944762  36329.89768456  37143.82659747\n",
      "  37963.39983049  38789.06609104  39621.26921447  40460.44827123\n",
      "  41307.03770988  42161.46753033  43024.16348203  43895.54728296\n",
      "  44776.03685557  45666.04657631  46565.9875361   47476.26780911\n",
      "  48397.29272796  49329.46516333  50273.1858066   51228.8534542\n",
      "  52196.86529244  53177.61718207  54171.50394164  55178.91962909\n",
      "  56200.25782106  57235.91188941  58286.27527473  59351.74175648\n",
      "  60432.7057196   61529.56241747  62642.70823117  63772.54092484\n",
      "  64919.45989741  66083.86643036  67266.16393199  68466.75817783\n",
      "  69686.05754772  70924.47325929  72182.4195982   73460.31414527\n",
      "  74758.57800045  76077.63600405  77417.91695518  78779.85382762\n",
      "  80163.88398338  81570.44938396  82999.99679958  84452.97801651\n",
      "  85929.85004275  87431.07531203  88957.12188652  90508.46365829\n",
      "  92085.5805497   93688.9587129   95319.09072855  96976.47580405\n",
      "  98661.61997118 100375.03628364 102117.24501426 103888.7738524\n",
      " 105690.15810136 107521.94087616 109384.67330173 111278.91471162\n",
      " 113205.23284748 115164.20405933 117156.41350671 119182.45536105\n",
      " 121242.93300911 123338.45925778 125469.65654037 127637.15712437\n",
      " 129841.60332096 132083.64769622 134363.95328429 136683.19380254\n",
      " 139042.05386885 141441.22922102 143881.4269387  146363.36566753\n",
      " 148887.77584599 151455.39993481 154066.99264912 156723.32119347\n",
      " 159425.16549979 162173.3184684  164968.58621211 167811.78830367\n",
      " 170703.75802648 173645.34262876 176637.40358127 179680.8168387\n",
      " 182776.47310475 185925.27810107 189128.15284015 192386.03390222\n",
      " 195699.87371633 199070.64084563 202499.32027697 205986.91371503\n",
      " 209534.43988084 213142.93481511 216813.45218618 220547.06360283\n",
      " 224344.85893216 228207.94662233 232137.45403066 236134.52775686\n",
      " 240200.33398169 244336.05881113 248542.90862612 252822.11043797\n",
      " 257174.91224969 261602.58342313 266106.41505231 270687.72034277\n",
      " 275347.83499732 280088.11760814 284909.9500554  289814.73791256\n",
      " 294803.91085841 299878.92309605 305041.25377881 310292.40744344\n",
      " 315633.91445049 321067.33143216 326594.2417477  332216.25594647\n",
      " 337935.01223887 343752.1769752  349669.44513271 355688.5408108\n",
      " 361811.21773474 368039.25976785 374374.48143249 380818.72843981\n",
      " 387373.87822864 394041.84051342 400824.55784163 407724.00616062\n",
      " 414742.19539415]\n",
      "reaching the the new k_star takes  183 years with 1.0652 value difference to the new steady-state\n"
     ]
    },
    {
     "data": {
      "image/png": "[encoded data removed]",
      "text/plain": [
       "<Figure size 432x288 with 1 Axes>"
      ]
     },
     "metadata": {
      "needs_background": "light"
     },
     "output_type": "display_data"
    },
    {
     "data": {
      "image/png": "[encoded data removed]",
      "text/plain": [
       "<Figure size 432x288 with 1 Axes>"
      ]
     },
     "metadata": {
      "needs_background": "light"
     },
     "output_type": "display_data"
    }
   ],
   "source": [
    "# 4 - 1\n",
    "# years need to reach to the new k_star\n",
    "\n",
    "def L(L0, n, time):\n",
    "    return L0 * (1 + n)**(time)\n",
    "\n",
    "def A(A0, g, time):\n",
    "    return A0 * (1 + g)**(time)\n",
    "\n",
    "s = 0.1\n",
    "d = 0.06\n",
    "alpha = 0.33\n",
    "l = 0.01\n",
    "K1 = capital[65]\n",
    "L1 = population[65]\n",
    "A1 = knowledge[65]\n",
    "\n",
    "time = 0\n",
    "population1 = [L1]\n",
    "knowledge1 = [A1]\n",
    "capital1 = [K1]\n",
    "capital_p1 = [capital1[0] / (knowledge1[0] * population1[0])]\n",
    "output1 = [sr_function_output(l, capital1[0], alpha, knowledge1[0], population1[0])]\n",
    "output_p1 = [output_per_person(l, alpha, capital_p1[0])]\n",
    "investment1 = [s * output1[0]]\n",
    "investment_p1 = [s * output_p1[0]]\n",
    "depreciation1 = [(d + g + n) * capital1[0]]\n",
    "depreciation_p1 = [(d + g + n) * capital_p1[0]]\n",
    "consumption1 = [output1[0] - investment1[0]]\n",
    "consumption_p1 = [output_p1[0] - investment_p1[0]]\n",
    "change_in_capital1 = [investment1[0] - depreciation1[0]]\n",
    "change_in_capital_p1 = [investment_p1[0] - depreciation_p1[0]]\n",
    "i = 0\n",
    "\n",
    "for i in range(0, 10):\n",
    "    i += 1\n",
    "    time = np.append(time, i)\n",
    "    population1 = np.append(population1, L(L1, n, time[i]))\n",
    "    knowledge1 = np.append(knowledge1, A(A1, g, time[i]))\n",
    "    capital1 = np.append(capital1, capital1[i - 1] + change_in_capital1[i - 1])\n",
    "    capital_p1 = np.append(capital_p1, capital1[i] / (knowledge1[i] * population1[i]))\n",
    "    output1 = np.append(output1, sr_function_output(l, capital1[i], alpha, knowledge1[i], population1[i]))\n",
    "    output_p1 = np.append(output_p1, output_per_person(l, alpha, capital_p1[i]))\n",
    "    investment1 = np.append(investment1, s * output1[i])\n",
    "    investment_p1 = np.append(investment_p1, s * output_p1[i])\n",
    "    depreciation1 = np.append(depreciation1, (d + g + n) * capital1[i])\n",
    "    depreciation_p1 = np.append(depreciation_p1, (d + g + n) * capital_p1[i])\n",
    "    consumption1 = np.append(consumption1, output1[i] - investment1[i])\n",
    "    consumption_p1 = np.append(consumption_p1, output_p1[i] - investment_p1[i])\n",
    "    change_in_capital1 = np.append(change_in_capital1, investment1[i] - depreciation1[i])\n",
    "\n",
    "capital1[10] = (capital1[9] / 2)\n",
    "s2 = s * 2\n",
    "A2 = knowledge1[10] * 2\n",
    "k_star_new = (1 - l) * (s2 / (d + g + n))**(1/ (1 - alpha))\n",
    "print(\"k_star_new =\", k_star_new)\n",
    "\n",
    "while (abs(k_star_new - capital_p1[i])) > 1.0652:\n",
    "    i += 1\n",
    "    time = np.append(time, i)\n",
    "    population1 = np.append(population1, L(L1, n, time[i]))\n",
    "    knowledge1 = np.append(knowledge1, A(A2, g, time[i - 10]))\n",
    "    capital1 = np.append(capital1, capital1[i - 1] + change_in_capital1[i - 1])\n",
    "    capital_p1 = np.append(capital_p1, capital1[i] / (knowledge1[i] * population1[i]))\n",
    "    output1 = np.append(output1, sr_function_output(l, capital1[i], alpha, knowledge1[i], population1[i]))\n",
    "    output_p1 = np.append(output_p1, output_per_person(l, alpha, capital_p1[i]))\n",
    "    investment1 = np.append(investment1, s2 * output1[i])\n",
    "    investment_p1 = np.append(investment_p1, s2 * output_p1[i])\n",
    "    depreciation1 = np.append(depreciation1, (d + g + n) * capital1[i])\n",
    "    depreciation_p1 = np.append(depreciation_p1, (d + g + n) * capital_p1[i])\n",
    "    consumption1 = np.append(consumption1,output1[i] - investment1[i])\n",
    "    consumption_p1 = np.append(consumption_p1, output_p1[i] - investment_p1[i])\n",
    "    change_in_capital1 = np.append(change_in_capital1, investment1[i] - depreciation1[i])\n",
    "\n",
    "print(capital1)\n",
    "print(\"reaching the the new k_star takes \", len(time) - 10, \"years with 1.0652 value difference to the new steady-state\")\n",
    "\n",
    "plt.plot(time, output_p1, 'green', label = 'yt')\n",
    "plt.plot(time, consumption_p1, 'yellow', label = 'ct')\n",
    "plt.plot(time, investment_p1, 'red', label = 'it')\n",
    "plt.plot(time, depreciation_p1, 'blue', label = '(d+g+n)kt')\n",
    "plt.title(\"Solow - Romer Model(per capita)\")\n",
    "plt.xlabel(\"Years\")\n",
    "plt.ylabel(\"yt, it, ct\")\n",
    "plt.xlim(0,i)\n",
    "plt.legend()\n",
    "plt.show()\n",
    "\n",
    "plt.plot(time, capital1, 'black', label = 'Kt')\n",
    "plt.plot(time, output1, 'green', label = 'Yt')\n",
    "plt.plot(time, consumption1, 'yellow', label = 'Ct')\n",
    "plt.title(\"Solow - Romer Model\")\n",
    "plt.xlabel(\"Years\")\n",
    "plt.ylabel(\"Yt, It, Ct\")\n",
    "plt.yscale(\"log\")\n",
    "plt.xlim(0,i)\n",
    "plt.legend()\n",
    "plt.show()"
   ]
  },
  {
   "cell_type": "code",
   "execution_count": 8,
   "metadata": {},
   "outputs": [
    {
     "name": "stdout",
     "output_type": "stream",
     "text": [
      "Q5)\n",
      "The new steady-state is larger than the old steady-state. To reach to the new steady-state takes 183 years with the 1.0652 value difference to the new steady-state. Capital became smaller which makes output per person lower than the old steady-state. The saving rate got doubled, which makes poor right now. Knowledge doubled which makes growth faster. In the beginning the economy output per person will be lower than old steady-state output per person, but the economy will grow faster and become slower when it is about to reach to the new steady-state. Eventually, the economy will grow to the larger new steady-state than the old steady-state and output per person, consumption, and depreciation are larger than old steady-state.\n"
     ]
    }
   ],
   "source": [
    "print(\"Q5)\\nThe new steady-state is larger than the old steady-state. To reach to the new steady-state takes 183 years with the 1.0652 value difference to the new steady-state. Capital became smaller which makes output per person lower than the old steady-state. The saving rate got doubled, which makes poor right now. Knowledge doubled which makes growth faster. In the beginning the economy output per person will be lower than old steady-state output per person, but the economy will grow faster and become slower when it is about to reach to the new steady-state. Eventually, the economy will grow to the larger new steady-state than the old steady-state and output per person, consumption, and depreciation are larger than old steady-state.\") "
   ]
  },
  {
   "cell_type": "code",
   "execution_count": null,
   "metadata": {},
   "outputs": [],
   "source": []
  }
 ],
 "metadata": {
  "kernelspec": {
   "display_name": "Python 3",
   "language": "python",
   "name": "python3"
  },
  "language_info": {
   "codemirror_mode": {
    "name": "ipython",
    "version": 3
   },
   "file_extension": ".py",
   "mimetype": "text/x-python",
   "name": "python",
   "nbconvert_exporter": "python",
   "pygments_lexer": "ipython3",
   "version": "3.7.4"
  }
 },
 "nbformat": 4,
 "nbformat_minor": 4
}
