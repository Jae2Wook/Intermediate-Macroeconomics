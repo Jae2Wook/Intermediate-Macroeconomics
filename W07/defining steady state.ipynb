{
 "cells": [
  {
   "cell_type": "code",
   "execution_count": null,
   "metadata": {},
   "outputs": [],
   "source": [
    "#Parameters\n",
    "z =\n",
    "n =\n",
    "alpha =\n",
    "l =\n",
    "d =\n",
    "K0 =\n",
    "L0 =\n",
    "A0 =\n",
    "\n",
    "#steady state\n",
    "k_star = (s / (n + z*l + d))**(1 / (1 - alpha)) * (1 - l)\n",
    "y_star = (s / (n + z*l + d))**(alpha / (1 - alpha)) * (1 - l)\n",
    "K_star = k_star * L[i] * A[i]\n",
    "K = k_star * A[t] * L[t]\n",
    "Y[i] = (1 - l)**(l - alpha) * K[i]**(alpha) * (L[i] * A[i])**(1 - alpha)\n",
    "A[i] = A[i -1] * (1 + z*l)\n",
    "L[i] = L[i -1] * (1 + n)\n",
    "change_capital = (s * (1 - l)**(1 - alpha) * (K[i] / (A[i] * L[i]))**(alpha) - (d + n + z*l) * (K[i] / (A[i] * L[i])) + z*l + n) * K[i -1]\n",
    "K[i] = K[i -1] * change_capital\n",
    "Y[i] = K[i]**(alpha) * (A[i] * L[i])**(1 - alpha) * (1 -l)**(1 -l)\n",
    "\n",
    "#Preallocate arrays\n",
    "K = [K0]\n",
    "A = [A0]\n",
    "L = [L0]\n",
    "\n",
    "while K[i] - (k_star * L[i] * A[i]) < elpsilon"
   ]
  }
 ],
 "metadata": {
  "kernelspec": {
   "display_name": "Python 3",
   "language": "python",
   "name": "python3"
  },
  "language_info": {
   "codemirror_mode": {
    "name": "ipython",
    "version": 3
   },
   "file_extension": ".py",
   "mimetype": "text/x-python",
   "name": "python",
   "nbconvert_exporter": "python",
   "pygments_lexer": "ipython3",
   "version": "3.7.4"
  }
 },
 "nbformat": 4,
 "nbformat_minor": 4
}
