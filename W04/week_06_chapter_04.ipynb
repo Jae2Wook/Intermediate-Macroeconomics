{
 "cells": [
  {
   "cell_type": "markdown",
   "metadata": {},
   "source": [
    "# Chapter 04 Exercises\n"
   ]
  },
  {
   "cell_type": "code",
   "execution_count": 1,
   "metadata": {},
   "outputs": [],
   "source": [
    "# Write the code for the libraries you use to complete the assignment\n",
    "import numpy as np\n",
    "import pandas as pd\n",
    "import matplotlib.pyplot as plt"
   ]
  },
  {
   "cell_type": "markdown",
   "metadata": {},
   "source": [
    "\n",
    "# The Black Death (Q1 and Q2)\n",
    "\n",
    "In the middle of the fourteenth century, and epidemic known as the Black Death killed about a third of Europe's population, about 34 million people. While this was an enormous tragedy, the macroeconomic consequences might surprise you: over the next century, wages are estimated to have been *higher* than before the Black Death. Questions 1 and 2 will help you gain an understanding as to why this happened.\n",
    "\n",
    "\n",
    "\n",
    "## Q1) Solving the production model\n",
    "\n",
    "Before answering any questions about the Black Death, let's first build an understanding of the production function. Suppose the production function is given by $ Y = \\bar{A}K^{\\alpha}L^{1-\\alpha}$. This is a general version of the production function we've been working with, where $\\alpha$ is the \"capital share of output.\" "
   ]
  },
  {
   "cell_type": "markdown",
   "metadata": {},
   "source": [
    "**(a)** Using pencil and paper (you don't have to enter the answer here), create a new version of Table 4.1 (pg. 76) for the model using this more general production function. What are the five equations and five unknowns? (*Hint*: The hiring rules for capital and labor will change in the obvious way.)"
   ]
  },
  {
   "cell_type": "markdown",
   "metadata": {},
   "source": [
    "### Answer:\n",
    "\n",
    "\n",
    "* MPK: $\n",
    "\\frac{\\partial Y}{\\partial K} = \\alpha \\ \\bar{A} K^{\\alpha - 1} L ^{1 - \\alpha} = \\alpha \\frac{\\bar{A}K^\\alpha L^{\\alpha - 1}}{K} = \\alpha \\frac{Y}{K}\n",
    "$\n",
    "\n",
    "* MPL: $\n",
    "\\frac{\\partial Y}{\\partial L} = (1 - \\alpha) \\bar{A}K^{\\alpha}L^{1 - \\alpha - 1} = (1 - \\alpha) \\bar{A}K^{\\alpha}L^{1 - \\alpha}L^{-1} = (1 - \\alpha)\\frac{Y}{L}\n",
    "$\n",
    "\n",
    "\n",
    "\n",
    "\n",
    "| Description             | Formula                             |\n",
    "|-------------------------|-------------------------------------|\n",
    "| Production function     | $Y \\text{ = } \\bar{A}K^{\\alpha}L^{1 - \\alpha}$ | \n",
    "| Rule for hiring capital | $\\alpha\\cdot \\frac{Y}{K} \\text{=} r \\space$ |\n",
    "| Rule for hiring labor   | $1 - \\alpha \\frac{Y}{L} \\text{=} \\omega$ |\n",
    "| Demand $=$ Supply for capital | $K = \\bar{K}$ |\n",
    "| Demand $=$ supply for labor | $L = \\bar{L}$ |"
   ]
  },
  {
   "cell_type": "markdown",
   "metadata": {},
   "source": [
    "**(b)** What is the solution for the equilibrium level of output per person? Let $\\bar{A} = 1$, $L = 200$, $K = 200$, $\\alpha = 1/3$. \n",
    "Do this problem by hand, and input your solution below.\n"
   ]
  },
  {
   "cell_type": "code",
   "execution_count": 2,
   "metadata": {},
   "outputs": [
    {
     "name": "stdout",
     "output_type": "stream",
     "text": [
      "0.9999999999999996\n"
     ]
    }
   ],
   "source": [
    "#  YL = Y/L\n",
    "YL = (1 * 200**(1/3) * 200**(2/3) ) / 200\n",
    "print(YL)"
   ]
  },
  {
   "cell_type": "markdown",
   "metadata": {},
   "source": [
    "**(d)** How does changing the level of alpha ($\\bar{A}$) affect the equilibrium level of output, rental rate of capital, and wages? Try $\\bar{A}$={0.5, 0.75, 1.25, 1.5}. Do this in Python."
   ]
  },
  {
   "cell_type": "code",
   "execution_count": 3,
   "metadata": {},
   "outputs": [
    {
     "name": "stdout",
     "output_type": "stream",
     "text": [
      "[ 99. 149. 249. 299.]\n",
      "[0.05555556 0.08333333 0.13888889 0.16666667]\n",
      "[0.33333333 0.5        0.83333333 1.        ]\n"
     ]
    }
   ],
   "source": [
    "#  A = {0.5, 0.75, 1.25, 1.5}\n",
    "A = np.array([0.5, 0.75, 1.25, 1.5])\n",
    "\n",
    "#   Level of output\n",
    "YL1 = (A * 200**(1/3) * 200**(2/3)) - 1\n",
    "print(YL1)\n",
    "\n",
    "#   rental rate of capital\n",
    "R = 1/3 * A * (200/200)**2/3\n",
    "print(R)\n",
    "\n",
    "#   wages\n",
    "W = 2/3 * A * (200/200)**(1/3)\n",
    "print(W)"
   ]
  },
  {
   "cell_type": "markdown",
   "metadata": {},
   "source": [
    "## Q2) \n",
    "\n",
    "  **(a)** Show numerically how much wages would rise if a third of the population died from disease. Assume $\\bar{A} = 1$, $L = 200$, $K = 200$, $\\alpha = 1/3$, $Y = \\bar{A}K^{1/3}L^{2/3}$ before the black plague."
   ]
  },
  {
   "cell_type": "code",
   "execution_count": 4,
   "metadata": {},
   "outputs": [
    {
     "name": "stdout",
     "output_type": "stream",
     "text": [
      "0.7631428283688879\n",
      "0.6666666666666666\n",
      "0.09647616170222129\n",
      "% 14.47142425533319 rose\n"
     ]
    }
   ],
   "source": [
    "#   Before\n",
    "wo = 1 * 2/3 *(200/200)**(1/3)\n",
    "\n",
    "#   After\n",
    "w1 = 1 * 2/3 * (200/ (200*2/3))**(1/3)\n",
    "\n",
    "print(w1)\n",
    "print(wo)\n",
    "\n",
    "#   difference\n",
    "print(w1 - wo)\n",
    "\n",
    "print(\"%\",w1/wo * 100 - 100,\"rose\")"
   ]
  },
  {
   "cell_type": "markdown",
   "metadata": {},
   "source": [
    "**(b)** Suppose that instead of the black plague there was an alien invasion of Europe that didn't kill anyone, but instead brought in new technology. How much would TFP have to increase to raise wages as much as the black plague? "
   ]
  },
  {
   "cell_type": "code",
   "execution_count": 5,
   "metadata": {},
   "outputs": [
    {
     "name": "stdout",
     "output_type": "stream",
     "text": [
      "TFP needs to be 1.1447142425533319\n",
      "1.1447142425533319\n"
     ]
    }
   ],
   "source": [
    "#   What is A\n",
    "#   w1 = A * 2/3 * (200/200)**(1/3)\n",
    "A = w1 * 3/2 * (200/200)**(-1/3)\n",
    "A1 = 1 * (3/2)**(1/3)\n",
    "print(\"TFP needs to be\", A)\n",
    "print(A1)"
   ]
  },
  {
   "cell_type": "markdown",
   "metadata": {},
   "source": [
    "# Q3) The empirical fit of the production model\n",
    "\n",
    "The table on page 99 of the book (or shown below in the Pandas data frame) reports per capita GDP and capital per person in the year 2014 for 10 countries. __Your task is to fill in the missing columns of the data frame by completing steps a) thorugh d).__"
   ]
  },
  {
   "cell_type": "code",
   "execution_count": 6,
   "metadata": {},
   "outputs": [
    {
     "data": {
      "text/html": [
       "<div>\n",
       "<style scoped>\n",
       "    .dataframe tbody tr th:only-of-type {\n",
       "        vertical-align: middle;\n",
       "    }\n",
       "\n",
       "    .dataframe tbody tr th {\n",
       "        vertical-align: top;\n",
       "    }\n",
       "\n",
       "    .dataframe thead th {\n",
       "        text-align: right;\n",
       "    }\n",
       "</style>\n",
       "<table border=\"1\" class=\"dataframe\">\n",
       "  <thead>\n",
       "    <tr style=\"text-align: right;\">\n",
       "      <th></th>\n",
       "      <th>Country(0)</th>\n",
       "      <th>Capital per person(1)</th>\n",
       "      <th>Per capita GDP(2)</th>\n",
       "      <th>Capital per person(3)</th>\n",
       "      <th>Per capita GDP(4)</th>\n",
       "      <th>Predicted y*(5)</th>\n",
       "      <th>Implied TFP(6)</th>\n",
       "    </tr>\n",
       "  </thead>\n",
       "  <tbody>\n",
       "    <tr>\n",
       "      <td>0</td>\n",
       "      <td>United States</td>\n",
       "      <td>141841</td>\n",
       "      <td>51895</td>\n",
       "      <td>1</td>\n",
       "      <td>1</td>\n",
       "      <td>1</td>\n",
       "      <td>1</td>\n",
       "    </tr>\n",
       "    <tr>\n",
       "      <td>1</td>\n",
       "      <td>Canada</td>\n",
       "      <td>128667</td>\n",
       "      <td>43367</td>\n",
       "      <td></td>\n",
       "      <td></td>\n",
       "      <td></td>\n",
       "      <td></td>\n",
       "    </tr>\n",
       "    <tr>\n",
       "      <td>2</td>\n",
       "      <td>France</td>\n",
       "      <td>162207</td>\n",
       "      <td>37360</td>\n",
       "      <td></td>\n",
       "      <td></td>\n",
       "      <td></td>\n",
       "      <td></td>\n",
       "    </tr>\n",
       "    <tr>\n",
       "      <td>3</td>\n",
       "      <td>Hong Kong</td>\n",
       "      <td>159247</td>\n",
       "      <td>45095</td>\n",
       "      <td></td>\n",
       "      <td></td>\n",
       "      <td></td>\n",
       "      <td></td>\n",
       "    </tr>\n",
       "    <tr>\n",
       "      <td>4</td>\n",
       "      <td>South Korea</td>\n",
       "      <td>120472</td>\n",
       "      <td>34961</td>\n",
       "      <td></td>\n",
       "      <td></td>\n",
       "      <td></td>\n",
       "      <td></td>\n",
       "    </tr>\n",
       "    <tr>\n",
       "      <td>5</td>\n",
       "      <td>Indonesia</td>\n",
       "      <td>41044</td>\n",
       "      <td>9797</td>\n",
       "      <td></td>\n",
       "      <td></td>\n",
       "      <td></td>\n",
       "      <td></td>\n",
       "    </tr>\n",
       "    <tr>\n",
       "      <td>6</td>\n",
       "      <td>Argentina</td>\n",
       "      <td>53821</td>\n",
       "      <td>20074</td>\n",
       "      <td></td>\n",
       "      <td></td>\n",
       "      <td></td>\n",
       "      <td></td>\n",
       "    </tr>\n",
       "    <tr>\n",
       "      <td>7</td>\n",
       "      <td>Mexico</td>\n",
       "      <td>45039</td>\n",
       "      <td>15521</td>\n",
       "      <td></td>\n",
       "      <td></td>\n",
       "      <td></td>\n",
       "      <td></td>\n",
       "    </tr>\n",
       "    <tr>\n",
       "      <td>8</td>\n",
       "      <td>Kenya</td>\n",
       "      <td>4686</td>\n",
       "      <td>2971</td>\n",
       "      <td></td>\n",
       "      <td></td>\n",
       "      <td></td>\n",
       "      <td></td>\n",
       "    </tr>\n",
       "    <tr>\n",
       "      <td>9</td>\n",
       "      <td>Ethiopia</td>\n",
       "      <td>3227</td>\n",
       "      <td>1505</td>\n",
       "      <td></td>\n",
       "      <td></td>\n",
       "      <td></td>\n",
       "      <td></td>\n",
       "    </tr>\n",
       "  </tbody>\n",
       "</table>\n",
       "</div>"
      ],
      "text/plain": [
       "      Country(0)  Capital per person(1)  Per capita GDP(2)  \\\n",
       "0  United States                 141841              51895   \n",
       "1         Canada                 128667              43367   \n",
       "2         France                 162207              37360   \n",
       "3      Hong Kong                 159247              45095   \n",
       "4    South Korea                 120472              34961   \n",
       "5      Indonesia                  41044               9797   \n",
       "6      Argentina                  53821              20074   \n",
       "7         Mexico                  45039              15521   \n",
       "8          Kenya                   4686               2971   \n",
       "9       Ethiopia                   3227               1505   \n",
       "\n",
       "  Capital per person(3) Per capita GDP(4) Predicted y*(5) Implied TFP(6)  \n",
       "0                     1                 1               1              1  \n",
       "1                                                                         \n",
       "2                                                                         \n",
       "3                                                                         \n",
       "4                                                                         \n",
       "5                                                                         \n",
       "6                                                                         \n",
       "7                                                                         \n",
       "8                                                                         \n",
       "9                                                                         "
      ]
     },
     "execution_count": 6,
     "metadata": {},
     "output_type": "execute_result"
    }
   ],
   "source": [
    "# Run this code to create the data frame!\n",
    "countries = ['United States', 'Canada', 'France', 'Hong Kong', 'South Korea', 'Indonesia', 'Argentina', 'Mexico', 'Kenya', 'Ethiopia']\n",
    "capital_per_person1 = [141841, 128667, 162207, 159247, 120472, 41044, 53821, 45039, 4686, 3227]\n",
    "per_capita_GDP2 = [51895, 43367, 37360, 45095, 34961, 9797, 20074, 15521, 2971, 1505]\n",
    "capital_per_person3 = [1.0, '', '', '', '', '', '', '', '', '']\n",
    "per_capita_GDP4 = [1.0, '', '', '', '', '', '', '', '', '']\n",
    "predicted_y = [1.0, '', '', '', '', '', '', '', '', '']\n",
    "implied_TFP = [1.0, '', '', '', '', '', '', '', '', '']\n",
    "\n",
    "df = pd.DataFrame({'Country(0)':countries, \n",
    "                   'Capital per person(1)':capital_per_person1, \n",
    "                   'Per capita GDP(2)':per_capita_GDP2, \n",
    "                   'Capital per person(3)':capital_per_person3, \n",
    "                   'Per capita GDP(4)':per_capita_GDP4, \n",
    "                   'Predicted y*(5)':predicted_y, \n",
    "                   'Implied TFP(6)':implied_TFP}, columns=['Country(0)', 'Capital per person(1)', 'Per capita GDP(2)', 'Capital per person(3)', 'Per capita GDP(4)', 'Predicted y*(5)', 'Implied TFP(6)'])\n",
    "df\n"
   ]
  },
  {
   "cell_type": "markdown",
   "metadata": {},
   "source": [
    "**(a)** Given the values in columns 1 and 2 which are in U.S. dollars, fill in columns 3 and 4 which are relative to U.S. values (U.S. = 1). That is, compute per capita GDP and capital per person relative to the U.S. values taking the ratio of each country's value (either Per capita GDP or Capital per Person) to the corresponding US value. "
   ]
  },
  {
   "cell_type": "code",
   "execution_count": 7,
   "metadata": {},
   "outputs": [
    {
     "data": {
      "text/html": [
       "<div>\n",
       "<style scoped>\n",
       "    .dataframe tbody tr th:only-of-type {\n",
       "        vertical-align: middle;\n",
       "    }\n",
       "\n",
       "    .dataframe tbody tr th {\n",
       "        vertical-align: top;\n",
       "    }\n",
       "\n",
       "    .dataframe thead th {\n",
       "        text-align: right;\n",
       "    }\n",
       "</style>\n",
       "<table border=\"1\" class=\"dataframe\">\n",
       "  <thead>\n",
       "    <tr style=\"text-align: right;\">\n",
       "      <th></th>\n",
       "      <th>Country(0)</th>\n",
       "      <th>Capital per person(1)</th>\n",
       "      <th>Per capita GDP(2)</th>\n",
       "      <th>Capital per person(3)</th>\n",
       "      <th>Per capita GDP(4)</th>\n",
       "      <th>Predicted y*(5)</th>\n",
       "      <th>Implied TFP(6)</th>\n",
       "    </tr>\n",
       "  </thead>\n",
       "  <tbody>\n",
       "    <tr>\n",
       "      <td>0</td>\n",
       "      <td>United States</td>\n",
       "      <td>141841</td>\n",
       "      <td>51895</td>\n",
       "      <td>1.000000</td>\n",
       "      <td>1.000000</td>\n",
       "      <td>1</td>\n",
       "      <td>1</td>\n",
       "    </tr>\n",
       "    <tr>\n",
       "      <td>1</td>\n",
       "      <td>Canada</td>\n",
       "      <td>128667</td>\n",
       "      <td>43367</td>\n",
       "      <td>0.907121</td>\n",
       "      <td>0.835668</td>\n",
       "      <td></td>\n",
       "      <td></td>\n",
       "    </tr>\n",
       "    <tr>\n",
       "      <td>2</td>\n",
       "      <td>France</td>\n",
       "      <td>162207</td>\n",
       "      <td>37360</td>\n",
       "      <td>1.143583</td>\n",
       "      <td>0.719915</td>\n",
       "      <td></td>\n",
       "      <td></td>\n",
       "    </tr>\n",
       "    <tr>\n",
       "      <td>3</td>\n",
       "      <td>Hong Kong</td>\n",
       "      <td>159247</td>\n",
       "      <td>45095</td>\n",
       "      <td>1.122715</td>\n",
       "      <td>0.868966</td>\n",
       "      <td></td>\n",
       "      <td></td>\n",
       "    </tr>\n",
       "    <tr>\n",
       "      <td>4</td>\n",
       "      <td>South Korea</td>\n",
       "      <td>120472</td>\n",
       "      <td>34961</td>\n",
       "      <td>0.849345</td>\n",
       "      <td>0.673687</td>\n",
       "      <td></td>\n",
       "      <td></td>\n",
       "    </tr>\n",
       "    <tr>\n",
       "      <td>5</td>\n",
       "      <td>Indonesia</td>\n",
       "      <td>41044</td>\n",
       "      <td>9797</td>\n",
       "      <td>0.289366</td>\n",
       "      <td>0.188785</td>\n",
       "      <td></td>\n",
       "      <td></td>\n",
       "    </tr>\n",
       "    <tr>\n",
       "      <td>6</td>\n",
       "      <td>Argentina</td>\n",
       "      <td>53821</td>\n",
       "      <td>20074</td>\n",
       "      <td>0.379446</td>\n",
       "      <td>0.386820</td>\n",
       "      <td></td>\n",
       "      <td></td>\n",
       "    </tr>\n",
       "    <tr>\n",
       "      <td>7</td>\n",
       "      <td>Mexico</td>\n",
       "      <td>45039</td>\n",
       "      <td>15521</td>\n",
       "      <td>0.317532</td>\n",
       "      <td>0.299085</td>\n",
       "      <td></td>\n",
       "      <td></td>\n",
       "    </tr>\n",
       "    <tr>\n",
       "      <td>8</td>\n",
       "      <td>Kenya</td>\n",
       "      <td>4686</td>\n",
       "      <td>2971</td>\n",
       "      <td>0.033037</td>\n",
       "      <td>0.057250</td>\n",
       "      <td></td>\n",
       "      <td></td>\n",
       "    </tr>\n",
       "    <tr>\n",
       "      <td>9</td>\n",
       "      <td>Ethiopia</td>\n",
       "      <td>3227</td>\n",
       "      <td>1505</td>\n",
       "      <td>0.022751</td>\n",
       "      <td>0.029001</td>\n",
       "      <td></td>\n",
       "      <td></td>\n",
       "    </tr>\n",
       "  </tbody>\n",
       "</table>\n",
       "</div>"
      ],
      "text/plain": [
       "      Country(0)  Capital per person(1)  Per capita GDP(2)  \\\n",
       "0  United States                 141841              51895   \n",
       "1         Canada                 128667              43367   \n",
       "2         France                 162207              37360   \n",
       "3      Hong Kong                 159247              45095   \n",
       "4    South Korea                 120472              34961   \n",
       "5      Indonesia                  41044               9797   \n",
       "6      Argentina                  53821              20074   \n",
       "7         Mexico                  45039              15521   \n",
       "8          Kenya                   4686               2971   \n",
       "9       Ethiopia                   3227               1505   \n",
       "\n",
       "   Capital per person(3)  Per capita GDP(4) Predicted y*(5) Implied TFP(6)  \n",
       "0               1.000000           1.000000               1              1  \n",
       "1               0.907121           0.835668                                 \n",
       "2               1.143583           0.719915                                 \n",
       "3               1.122715           0.868966                                 \n",
       "4               0.849345           0.673687                                 \n",
       "5               0.289366           0.188785                                 \n",
       "6               0.379446           0.386820                                 \n",
       "7               0.317532           0.299085                                 \n",
       "8               0.033037           0.057250                                 \n",
       "9               0.022751           0.029001                                 "
      ]
     },
     "execution_count": 7,
     "metadata": {},
     "output_type": "execute_result"
    }
   ],
   "source": [
    "three = df['Capital per person(1)'] / capital_per_person1[0]\n",
    "df['Capital per person(3)'] = three\n",
    "\n",
    "df['Per capita GDP(4)'] = df['Per capita GDP(2)'] / per_capita_GDP2[0]\n",
    "df"
   ]
  },
  {
   "cell_type": "markdown",
   "metadata": {},
   "source": [
    "**(b)** In column 5, use the production model (with $\\alpha=1/3$) to compute predicted per capita GDP for each country relative to the United States. Assume $\\bar{A}=1$, which implies there are no TFP differences across countries. This implies the production function is $y^\\ast = \\bar{A}k^{1/3}$."
   ]
  },
  {
   "cell_type": "code",
   "execution_count": 8,
   "metadata": {},
   "outputs": [
    {
     "data": {
      "text/html": [
       "<div>\n",
       "<style scoped>\n",
       "    .dataframe tbody tr th:only-of-type {\n",
       "        vertical-align: middle;\n",
       "    }\n",
       "\n",
       "    .dataframe tbody tr th {\n",
       "        vertical-align: top;\n",
       "    }\n",
       "\n",
       "    .dataframe thead th {\n",
       "        text-align: right;\n",
       "    }\n",
       "</style>\n",
       "<table border=\"1\" class=\"dataframe\">\n",
       "  <thead>\n",
       "    <tr style=\"text-align: right;\">\n",
       "      <th></th>\n",
       "      <th>Country(0)</th>\n",
       "      <th>Capital per person(1)</th>\n",
       "      <th>Per capita GDP(2)</th>\n",
       "      <th>Capital per person(3)</th>\n",
       "      <th>Per capita GDP(4)</th>\n",
       "      <th>Predicted y*(5)</th>\n",
       "      <th>Implied TFP(6)</th>\n",
       "    </tr>\n",
       "  </thead>\n",
       "  <tbody>\n",
       "    <tr>\n",
       "      <td>0</td>\n",
       "      <td>United States</td>\n",
       "      <td>141841</td>\n",
       "      <td>51895</td>\n",
       "      <td>1.000000</td>\n",
       "      <td>1.000000</td>\n",
       "      <td>1.000000</td>\n",
       "      <td>1</td>\n",
       "    </tr>\n",
       "    <tr>\n",
       "      <td>1</td>\n",
       "      <td>Canada</td>\n",
       "      <td>128667</td>\n",
       "      <td>43367</td>\n",
       "      <td>0.907121</td>\n",
       "      <td>0.835668</td>\n",
       "      <td>0.968029</td>\n",
       "      <td></td>\n",
       "    </tr>\n",
       "    <tr>\n",
       "      <td>2</td>\n",
       "      <td>France</td>\n",
       "      <td>162207</td>\n",
       "      <td>37360</td>\n",
       "      <td>1.143583</td>\n",
       "      <td>0.719915</td>\n",
       "      <td>1.045737</td>\n",
       "      <td></td>\n",
       "    </tr>\n",
       "    <tr>\n",
       "      <td>3</td>\n",
       "      <td>Hong Kong</td>\n",
       "      <td>159247</td>\n",
       "      <td>45095</td>\n",
       "      <td>1.122715</td>\n",
       "      <td>0.868966</td>\n",
       "      <td>1.039337</td>\n",
       "      <td></td>\n",
       "    </tr>\n",
       "    <tr>\n",
       "      <td>4</td>\n",
       "      <td>South Korea</td>\n",
       "      <td>120472</td>\n",
       "      <td>34961</td>\n",
       "      <td>0.849345</td>\n",
       "      <td>0.673687</td>\n",
       "      <td>0.947025</td>\n",
       "      <td></td>\n",
       "    </tr>\n",
       "    <tr>\n",
       "      <td>5</td>\n",
       "      <td>Indonesia</td>\n",
       "      <td>41044</td>\n",
       "      <td>9797</td>\n",
       "      <td>0.289366</td>\n",
       "      <td>0.188785</td>\n",
       "      <td>0.661428</td>\n",
       "      <td></td>\n",
       "    </tr>\n",
       "    <tr>\n",
       "      <td>6</td>\n",
       "      <td>Argentina</td>\n",
       "      <td>53821</td>\n",
       "      <td>20074</td>\n",
       "      <td>0.379446</td>\n",
       "      <td>0.386820</td>\n",
       "      <td>0.723963</td>\n",
       "      <td></td>\n",
       "    </tr>\n",
       "    <tr>\n",
       "      <td>7</td>\n",
       "      <td>Mexico</td>\n",
       "      <td>45039</td>\n",
       "      <td>15521</td>\n",
       "      <td>0.317532</td>\n",
       "      <td>0.299085</td>\n",
       "      <td>0.682227</td>\n",
       "      <td></td>\n",
       "    </tr>\n",
       "    <tr>\n",
       "      <td>8</td>\n",
       "      <td>Kenya</td>\n",
       "      <td>4686</td>\n",
       "      <td>2971</td>\n",
       "      <td>0.033037</td>\n",
       "      <td>0.057250</td>\n",
       "      <td>0.320873</td>\n",
       "      <td></td>\n",
       "    </tr>\n",
       "    <tr>\n",
       "      <td>9</td>\n",
       "      <td>Ethiopia</td>\n",
       "      <td>3227</td>\n",
       "      <td>1505</td>\n",
       "      <td>0.022751</td>\n",
       "      <td>0.029001</td>\n",
       "      <td>0.283356</td>\n",
       "      <td></td>\n",
       "    </tr>\n",
       "  </tbody>\n",
       "</table>\n",
       "</div>"
      ],
      "text/plain": [
       "      Country(0)  Capital per person(1)  Per capita GDP(2)  \\\n",
       "0  United States                 141841              51895   \n",
       "1         Canada                 128667              43367   \n",
       "2         France                 162207              37360   \n",
       "3      Hong Kong                 159247              45095   \n",
       "4    South Korea                 120472              34961   \n",
       "5      Indonesia                  41044               9797   \n",
       "6      Argentina                  53821              20074   \n",
       "7         Mexico                  45039              15521   \n",
       "8          Kenya                   4686               2971   \n",
       "9       Ethiopia                   3227               1505   \n",
       "\n",
       "   Capital per person(3)  Per capita GDP(4)  Predicted y*(5) Implied TFP(6)  \n",
       "0               1.000000           1.000000         1.000000              1  \n",
       "1               0.907121           0.835668         0.968029                 \n",
       "2               1.143583           0.719915         1.045737                 \n",
       "3               1.122715           0.868966         1.039337                 \n",
       "4               0.849345           0.673687         0.947025                 \n",
       "5               0.289366           0.188785         0.661428                 \n",
       "6               0.379446           0.386820         0.723963                 \n",
       "7               0.317532           0.299085         0.682227                 \n",
       "8               0.033037           0.057250         0.320873                 \n",
       "9               0.022751           0.029001         0.283356                 "
      ]
     },
     "execution_count": 8,
     "metadata": {},
     "output_type": "execute_result"
    }
   ],
   "source": [
    "#  y = Ak**(1/3) = A * (K/L)**(1/3) = Y/L = AK**(1/3)L**(2/3) / L\n",
    "\n",
    "y = 1 * df['Capital per person(3)']**(1/3)\n",
    "df['Predicted y*(5)'] = y\n",
    "df"
   ]
  },
  {
   "cell_type": "markdown",
   "metadata": {},
   "source": [
    "**(c)** In column 6, compute the level of TFP that is needed so that the Predicted y* (5) matches Per capital GDP (4)\n"
   ]
  },
  {
   "cell_type": "code",
   "execution_count": 9,
   "metadata": {},
   "outputs": [
    {
     "data": {
      "text/html": [
       "<div>\n",
       "<style scoped>\n",
       "    .dataframe tbody tr th:only-of-type {\n",
       "        vertical-align: middle;\n",
       "    }\n",
       "\n",
       "    .dataframe tbody tr th {\n",
       "        vertical-align: top;\n",
       "    }\n",
       "\n",
       "    .dataframe thead th {\n",
       "        text-align: right;\n",
       "    }\n",
       "</style>\n",
       "<table border=\"1\" class=\"dataframe\">\n",
       "  <thead>\n",
       "    <tr style=\"text-align: right;\">\n",
       "      <th></th>\n",
       "      <th>Country(0)</th>\n",
       "      <th>Capital per person(1)</th>\n",
       "      <th>Per capita GDP(2)</th>\n",
       "      <th>Capital per person(3)</th>\n",
       "      <th>Per capita GDP(4)</th>\n",
       "      <th>Predicted y*(5)</th>\n",
       "      <th>Implied TFP(6)</th>\n",
       "    </tr>\n",
       "  </thead>\n",
       "  <tbody>\n",
       "    <tr>\n",
       "      <td>0</td>\n",
       "      <td>United States</td>\n",
       "      <td>141841</td>\n",
       "      <td>51895</td>\n",
       "      <td>1.000000</td>\n",
       "      <td>1.000000</td>\n",
       "      <td>1.000000</td>\n",
       "      <td>1.000000</td>\n",
       "    </tr>\n",
       "    <tr>\n",
       "      <td>1</td>\n",
       "      <td>Canada</td>\n",
       "      <td>128667</td>\n",
       "      <td>43367</td>\n",
       "      <td>0.907121</td>\n",
       "      <td>0.835668</td>\n",
       "      <td>0.968029</td>\n",
       "      <td>0.863268</td>\n",
       "    </tr>\n",
       "    <tr>\n",
       "      <td>2</td>\n",
       "      <td>France</td>\n",
       "      <td>162207</td>\n",
       "      <td>37360</td>\n",
       "      <td>1.143583</td>\n",
       "      <td>0.719915</td>\n",
       "      <td>1.045737</td>\n",
       "      <td>0.688428</td>\n",
       "    </tr>\n",
       "    <tr>\n",
       "      <td>3</td>\n",
       "      <td>Hong Kong</td>\n",
       "      <td>159247</td>\n",
       "      <td>45095</td>\n",
       "      <td>1.122715</td>\n",
       "      <td>0.868966</td>\n",
       "      <td>1.039337</td>\n",
       "      <td>0.836077</td>\n",
       "    </tr>\n",
       "    <tr>\n",
       "      <td>4</td>\n",
       "      <td>South Korea</td>\n",
       "      <td>120472</td>\n",
       "      <td>34961</td>\n",
       "      <td>0.849345</td>\n",
       "      <td>0.673687</td>\n",
       "      <td>0.947025</td>\n",
       "      <td>0.711372</td>\n",
       "    </tr>\n",
       "    <tr>\n",
       "      <td>5</td>\n",
       "      <td>Indonesia</td>\n",
       "      <td>41044</td>\n",
       "      <td>9797</td>\n",
       "      <td>0.289366</td>\n",
       "      <td>0.188785</td>\n",
       "      <td>0.661428</td>\n",
       "      <td>0.285420</td>\n",
       "    </tr>\n",
       "    <tr>\n",
       "      <td>6</td>\n",
       "      <td>Argentina</td>\n",
       "      <td>53821</td>\n",
       "      <td>20074</td>\n",
       "      <td>0.379446</td>\n",
       "      <td>0.386820</td>\n",
       "      <td>0.723963</td>\n",
       "      <td>0.534308</td>\n",
       "    </tr>\n",
       "    <tr>\n",
       "      <td>7</td>\n",
       "      <td>Mexico</td>\n",
       "      <td>45039</td>\n",
       "      <td>15521</td>\n",
       "      <td>0.317532</td>\n",
       "      <td>0.299085</td>\n",
       "      <td>0.682227</td>\n",
       "      <td>0.438395</td>\n",
       "    </tr>\n",
       "    <tr>\n",
       "      <td>8</td>\n",
       "      <td>Kenya</td>\n",
       "      <td>4686</td>\n",
       "      <td>2971</td>\n",
       "      <td>0.033037</td>\n",
       "      <td>0.057250</td>\n",
       "      <td>0.320873</td>\n",
       "      <td>0.178420</td>\n",
       "    </tr>\n",
       "    <tr>\n",
       "      <td>9</td>\n",
       "      <td>Ethiopia</td>\n",
       "      <td>3227</td>\n",
       "      <td>1505</td>\n",
       "      <td>0.022751</td>\n",
       "      <td>0.029001</td>\n",
       "      <td>0.283356</td>\n",
       "      <td>0.102348</td>\n",
       "    </tr>\n",
       "  </tbody>\n",
       "</table>\n",
       "</div>"
      ],
      "text/plain": [
       "      Country(0)  Capital per person(1)  Per capita GDP(2)  \\\n",
       "0  United States                 141841              51895   \n",
       "1         Canada                 128667              43367   \n",
       "2         France                 162207              37360   \n",
       "3      Hong Kong                 159247              45095   \n",
       "4    South Korea                 120472              34961   \n",
       "5      Indonesia                  41044               9797   \n",
       "6      Argentina                  53821              20074   \n",
       "7         Mexico                  45039              15521   \n",
       "8          Kenya                   4686               2971   \n",
       "9       Ethiopia                   3227               1505   \n",
       "\n",
       "   Capital per person(3)  Per capita GDP(4)  Predicted y*(5)  Implied TFP(6)  \n",
       "0               1.000000           1.000000         1.000000        1.000000  \n",
       "1               0.907121           0.835668         0.968029        0.863268  \n",
       "2               1.143583           0.719915         1.045737        0.688428  \n",
       "3               1.122715           0.868966         1.039337        0.836077  \n",
       "4               0.849345           0.673687         0.947025        0.711372  \n",
       "5               0.289366           0.188785         0.661428        0.285420  \n",
       "6               0.379446           0.386820         0.723963        0.534308  \n",
       "7               0.317532           0.299085         0.682227        0.438395  \n",
       "8               0.033037           0.057250         0.320873        0.178420  \n",
       "9               0.022751           0.029001         0.283356        0.102348  "
      ]
     },
     "execution_count": 9,
     "metadata": {},
     "output_type": "execute_result"
    }
   ],
   "source": [
    "df['Implied TFP(6)'] = df['Per capita GDP(4)'] * df['Capital per person(3)']**(-1/3)\n",
    "df"
   ]
  },
  {
   "cell_type": "markdown",
   "metadata": {},
   "source": [
    "**(d)** Comment on the general results you find."
   ]
  },
  {
   "cell_type": "markdown",
   "metadata": {},
   "source": [
    "'Predicted per capita GDP(5)' is a lot axaggerated than the 'Observed per capita GDP(4)'. Because the other countries 'Total Factor Productivity(TFP)' is different, that is not 1(A = 1), with the United State (4) and (5) has differneces. The other countries' Total Factor Productivity is lower than the U.S."
   ]
  },
  {
   "cell_type": "markdown",
   "metadata": {},
   "source": [
    "## Q4) The labor share and Cobb-Douglas production \n",
    "\n",
    "Below is the code to download the FRED `ch04_labor_compensation.csv` file (see 6(a) code comments) for the share of income paid to labor for the nonfarm business sector of the U.S. economy, back to 1950. (For an introduction to FRED, see the case study \"The FRED database\" in Chapter 2 on page 34). Press shift + enter to run the code, and then answer the questions underneatch it."
   ]
  },
  {
   "cell_type": "code",
   "execution_count": 10,
   "metadata": {},
   "outputs": [
    {
     "name": "stdout",
     "output_type": "stream",
     "text": [
      "          Date  Labor Compensation\n",
      "0   1950-01-01            0.635634\n",
      "1   1951-01-01            0.640813\n",
      "2   1952-01-01            0.651878\n",
      "3   1953-01-01            0.651648\n",
      "4   1954-01-01            0.644531\n",
      "..         ...                 ...\n",
      "60  2010-01-01            0.595232\n",
      "61  2011-01-01            0.599838\n",
      "62  2012-01-01            0.602019\n",
      "63  2013-01-01            0.600111\n",
      "64  2014-01-01            0.603597\n",
      "\n",
      "[65 rows x 2 columns]\n"
     ]
    }
   ],
   "source": [
    "#Press shift + enter to run this code\n",
    "df = pd.read_csv('https://raw.githubusercontent.com/dylanjm/econ_381_development/master/data/ch04_labor_compensation.csv',\n",
    "            header=0, names=['Date', 'Labor Compensation']) # 'Date' and 'Labor Compensation' are the new column names\n",
    "print(df)"
   ]
  },
  {
   "cell_type": "markdown",
   "metadata": {},
   "source": [
    "**(a)** Create a time series plot of the data you downloaded.\n",
    "\n",
    "_Hint:  For the plotting consider using the pandas function df.plot where df is the name of your data frame._\n",
    "\n"
   ]
  },
  {
   "cell_type": "code",
   "execution_count": 11,
   "metadata": {},
   "outputs": [
    {
     "data": {
      "image/png": "[encoded data removed]",
      "text/plain": [
       "<Figure size 432x288 with 1 Axes>"
      ]
     },
     "metadata": {
      "needs_background": "light"
     },
     "output_type": "display_data"
    }
   ],
   "source": [
    "#dates = np.array(df['Date'], dtype = np.datetime64)\n",
    "df['Date'] = pd.to_datetime(df['Date'])\n",
    "df['Year'] = (df['Date']).dt.year\n",
    "LC = np.array(df['Labor Compensation'])\n",
    "#  plt.plot(dates, LC)\n",
    "#  plt.show()\n",
    "plt.plot(df['Year'], LC, label = 'Labor Compensation')\n",
    "plt.xlabel('Year')\n",
    "plt.ylabel('')\n",
    "plt.title('Labor Compenssation')\n",
    "plt.legend()\n",
    "plt.show()\n"
   ]
  },
  {
   "cell_type": "markdown",
   "metadata": {},
   "source": [
    "**(b)** The graph most likely shows an index (e.g., normalized so the value in some year is 100) rather than the share itself. Assuming the labor averaged $2/3$, approximately what value is the labor share for your most recent data point?"
   ]
  },
  {
   "cell_type": "code",
   "execution_count": 12,
   "metadata": {},
   "outputs": [
    {
     "data": {
      "text/plain": [
       "0.60359746218"
      ]
     },
     "execution_count": 12,
     "metadata": {},
     "output_type": "execute_result"
    }
   ],
   "source": [
    "df.at[64, 'Labor Compensation']"
   ]
  },
  {
   "cell_type": "markdown",
   "metadata": {},
   "source": [
    "**(c)** What does this graph suggest about the validity of our assumptions that the production function is Cobb-Douglas?"
   ]
  },
  {
   "cell_type": "markdown",
   "metadata": {},
   "source": [
    "We assume at Cobb-Douglas model that a company pays two-thrid of the output to the labor. The labor populations in Cobb-Douglas model is fixed but the graph is showing that the labor compensation is keep changing. So Cobb-Douglas can give close answer to the reality but there is a gap between the reality."
   ]
  }
 ],
 "metadata": {
  "kernelspec": {
   "display_name": "Python 3",
   "language": "python",
   "name": "python3"
  },
  "language_info": {
   "codemirror_mode": {
    "name": "ipython",
    "version": 3
   },
   "file_extension": ".py",
   "mimetype": "text/x-python",
   "name": "python",
   "nbconvert_exporter": "python",
   "pygments_lexer": "ipython3",
   "version": "3.7.4"
  }
 },
 "nbformat": 4,
 "nbformat_minor": 4
}
