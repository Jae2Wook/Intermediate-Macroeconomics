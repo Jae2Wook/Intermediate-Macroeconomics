{
 "cells": [
  {
   "cell_type": "markdown",
   "metadata": {},
   "source": [
    "# Chapter 03 Exercises\n",
    "\n",
    "## Jae Wook Jung\n",
    "\n",
    "### Jan. 29. 2020"
   ]
  },
  {
   "cell_type": "code",
   "execution_count": 1,
   "metadata": {},
   "outputs": [],
   "source": [
    "# Libraries you will need for this assignment. The code below will import them for your use. Please run this before continuing.\n",
    "%matplotlib inline\n",
    "import numpy as np\n",
    "import pandas as pd\n",
    "import matplotlib.pyplot as plt\n",
    "\n"
   ]
  },
  {
   "cell_type": "markdown",
   "metadata": {},
   "source": [
    "## Q1) Growth and Development with discrete compounding growth\n",
    "In 2014, Ethiopia had a per capita income of $\\$1500$, about $\\$4$ per day. Compute per capita income in Ethiopia for the year 2050, assuming the average annual growth rates below. Do the first two on paper, and then calculate the other two using python. \n",
    "\n",
    "*Hint:use the constant growth rate formula (3.7) on page 50 on your textbook to solve **(a)**. Then copy the formula for the next parts of this question, changing only the growth rate variable.*  \n",
    "\n",
    "**(a)** 1% per year. Do this one on paper, and put your answer in the answer box below.\n",
    "\n"
   ]
  },
  {
   "cell_type": "code",
   "execution_count": 2,
   "metadata": {},
   "outputs": [
    {
     "name": "stdout",
     "output_type": "stream",
     "text": [
      "$2,146.15\n"
     ]
    }
   ],
   "source": [
    "yo = 1500\n",
    "yr = 2050 - 2014\n",
    "g = 0.01\n",
    "yt = yo * (1 + g)**(yr)\n",
    "print('${:,.2f}'.format(yt))"
   ]
  },
  {
   "cell_type": "markdown",
   "metadata": {},
   "source": [
    "**(b)** 2% per year. Do this one on paper, and put your answer in the answer box below."
   ]
  },
  {
   "cell_type": "code",
   "execution_count": 3,
   "metadata": {},
   "outputs": [
    {
     "name": "stdout",
     "output_type": "stream",
     "text": [
      "$3,059.83\n"
     ]
    }
   ],
   "source": [
    "yo = 1500\n",
    "yr = 2050 - 2014\n",
    "g=0.02\n",
    "yt = yo * (1 + g)**(yr)\n",
    "print('${:,.2f}'.format(yt))"
   ]
  },
  {
   "cell_type": "markdown",
   "metadata": {},
   "source": [
    "**(c)** 4% per year. Calculate this one using python."
   ]
  },
  {
   "cell_type": "code",
   "execution_count": 4,
   "metadata": {},
   "outputs": [
    {
     "name": "stdout",
     "output_type": "stream",
     "text": [
      "$6,155.90\n"
     ]
    }
   ],
   "source": [
    "yo = 1500\n",
    "yr = 2050 - 2014\n",
    "g=0.04\n",
    "yt = yo * (1 + g)**(yr)\n",
    "print('${:,.2f}'.format(yt))"
   ]
  },
  {
   "cell_type": "markdown",
   "metadata": {},
   "source": [
    "**(d)** 6% per year. Caclulate this one using python."
   ]
  },
  {
   "cell_type": "code",
   "execution_count": 5,
   "metadata": {},
   "outputs": [
    {
     "name": "stdout",
     "output_type": "stream",
     "text": [
      "$12,220.88\n"
     ]
    }
   ],
   "source": [
    "yo = 1500\n",
    "yr = 2050 - 2014\n",
    "g=0.06\n",
    "yt = yo * (1 + g)**(yr)\n",
    "print('${:,.2f}'.format(yt))"
   ]
  },
  {
   "cell_type": "markdown",
   "metadata": {},
   "source": [
    "## Q2) Population Growth with continuous compounding growth\n",
    "\n",
    "Suppose the world population today is 7 bllion, and suppose this population grows at a constant rate of 3% per year from now on. \n",
    "\n",
    "**(a)** What would the world's population in 100 years from now? Calcuate this on paper and then input your answer below."
   ]
  },
  {
   "cell_type": "code",
   "execution_count": 6,
   "metadata": {},
   "outputs": [
    {
     "name": "stdout",
     "output_type": "stream",
     "text": [
      "134,530,423,865.99\n",
      "World Population in 100 years, 3% growth rate, in billions: 140.60\n"
     ]
    }
   ],
   "source": [
    "po = 7000000000\n",
    "g = 0.03\n",
    "yr = 100\n",
    "pt = po * (1 + g)**(yr)\n",
    "print('{:,.2f}'.format(pt))\n",
    "print(\"World Population in 100 years, 3% growth rate, in billions: 140.60\")"
   ]
  },
  {
   "cell_type": "markdown",
   "metadata": {},
   "source": [
    "**(b)** Using python, compute the level of the population for $t=0$, $t=1$, $t=2$, $t=10$, $t=25$, $t=50$ \n",
    "\n",
    "*Hint: You can use array operations to compute all these values simultaneously.*"
   ]
  },
  {
   "cell_type": "code",
   "execution_count": 7,
   "metadata": {},
   "outputs": [
    {
     "name": "stdout",
     "output_type": "stream",
     "text": [
      "[7.00000000e+09 7.21000000e+09 7.42630000e+09 9.40741466e+09\n",
      " 1.46564455e+10 3.06873421e+10]\n"
     ]
    }
   ],
   "source": [
    "po = 7000000000\n",
    "g = 0.03\n",
    "time = np.array([0, 1, 2, 10, 25, 50])\n",
    "pt = po * (1+g)**(time)\n",
    "print(pt)"
   ]
  },
  {
   "cell_type": "markdown",
   "metadata": {},
   "source": [
    "**(c)** Make a time series plot of population versus time on a standard scale."
   ]
  },
  {
   "cell_type": "code",
   "execution_count": 8,
   "metadata": {},
   "outputs": [
    {
     "data": {
      "image/png": "[encoded data removed]",
      "text/plain": [
       "<Figure size 432x288 with 1 Axes>"
      ]
     },
     "metadata": {
      "needs_background": "light"
     },
     "output_type": "display_data"
    }
   ],
   "source": [
    "plt.plot(time, pt)\n",
    "plt.ylabel('Population')\n",
    "plt.xlabel('Years')\n",
    "plt.title('Population growth')\n",
    "plt.show()"
   ]
  },
  {
   "cell_type": "markdown",
   "metadata": {},
   "source": [
    "**(d)** Make a time series plot of population versus time on a ratio scale."
   ]
  },
  {
   "cell_type": "code",
   "execution_count": 9,
   "metadata": {},
   "outputs": [
    {
     "data": {
      "image/png": "[encoded data removed]",
      "text/plain": [
       "<Figure size 432x288 with 1 Axes>"
      ]
     },
     "metadata": {
      "needs_background": "light"
     },
     "output_type": "display_data"
    }
   ],
   "source": [
    "plt.plot(time, pt)\n",
    "plt.yscale('log')\n",
    "plt.ylabel('Population')\n",
    "plt.xlabel('Years')\n",
    "plt.title('Population Growth')\n",
    "plt.show()"
   ]
  },
  {
   "cell_type": "markdown",
   "metadata": {},
   "source": [
    "## Q3) Computing levels: \n",
    "\n",
    "__a)__ Suppose $x_t$ grows at 2% per year and $y_t$ grows at 5% per year with $x_o = 2$ and $y_o = 1$. Calculate the numerical values of $z = x^{3/4}y^{1/4}$ for $t = 0, \\ t = 2,  \\ t = 10, \\ t = 17$, and $t = 35$."
   ]
  },
  {
   "cell_type": "code",
   "execution_count": 10,
   "metadata": {},
   "outputs": [
    {
     "name": "stdout",
     "output_type": "stream",
     "text": [
      "[1.68179283 1.77528222 2.20417987 2.66366257 4.33444376]\n"
     ]
    }
   ],
   "source": [
    "xo = 2\n",
    "gx = 0.02\n",
    "yo = 1\n",
    "gy = 0.05\n",
    "time = np.array([0, 2, 10, 17, 35])\n",
    "xt = xo * (1 + gx)**(time)\n",
    "yt = yo * (1 + gy)**(time)\n",
    "a = 3/4\n",
    "b = 1 -a \n",
    "zt = xt**(a) * yt**(b)\n",
    "print(zt)"
   ]
  },
  {
   "cell_type": "markdown",
   "metadata": {},
   "source": [
    "__b)__ Calculate the growth rate of $z$ numericaly using the continuous compounding growth formula."
   ]
  },
  {
   "cell_type": "code",
   "execution_count": 11,
   "metadata": {},
   "outputs": [
    {
     "name": "stdout",
     "output_type": "stream",
     "text": [
      "0.027418670558605696\n",
      "0.027049511514492808\n"
     ]
    }
   ],
   "source": [
    "r = (np.log(zt[4])-np.log(zt[0]))/35\n",
    "gz = (zt[4]/zt[0])**(1/35) - 1\n",
    "print(gz)\n",
    "print(r)"
   ]
  },
  {
   "cell_type": "markdown",
   "metadata": {},
   "source": [
    "__c)__ Could you have found the answer in an easier way? How?"
   ]
  },
  {
   "cell_type": "markdown",
   "metadata": {},
   "source": [
    "Yes, I could use the percentage/growth rates transformation for this function."
   ]
  },
  {
   "cell_type": "markdown",
   "metadata": {},
   "source": [
    "## Q4) Growh rates of per capita GDP:\n",
    "\n",
    "**(a)** Compute the average annual growth rate of per capita GDP for each of the countries listed below. The levels of GDP per capital are provided for 1980 and 2014, measured in constant 2011 dollars. \n",
    "\n",
    "*Hint: We will use formula (3.9) on page 54 of your textbook. The comments in the input field below will guide you through this exercise.*\n"
   ]
  },
  {
   "cell_type": "code",
   "execution_count": 12,
   "metadata": {},
   "outputs": [
    {
     "name": "stdout",
     "output_type": "stream",
     "text": [
      "           Country  GDP 1980  GDP 2014  Average GDP growth rate(continuous)  \\\n",
      "0    United States     29288     51958                             1.686052   \n",
      "1           Canada     24716     43376                             1.654281   \n",
      "2           France     22557     37360                             1.483986   \n",
      "3   United Kingdom     20044     38083                             1.887759   \n",
      "4            Italy     19912     34876                             1.648460   \n",
      "5          Germany     19617     45320                             2.462800   \n",
      "6            Japan     19147     35574                             1.821968   \n",
      "7          Ireland     12845     52186                             4.123117   \n",
      "8           Mexico     11954     15521                             0.768024   \n",
      "9           Brazil      5297     17459                             3.507984   \n",
      "10       Indonesia      2249      9797                             4.328207   \n",
      "11           Kenya      2049      2971                             1.092784   \n",
      "12           China      1578     12514                             6.090264   \n",
      "13           India      1196      5451                             4.461225   \n",
      "14        Ethiopia       690      1505                             2.293696   \n",
      "\n",
      "    Average GDP growth rate(discrete)  \n",
      "0                            1.700347  \n",
      "1                            1.668040  \n",
      "2                            1.495052  \n",
      "3                            1.905690  \n",
      "4                            1.662122  \n",
      "5                            2.493377  \n",
      "6                            1.838667  \n",
      "7                            4.209297  \n",
      "8                            0.770980  \n",
      "9                            3.570240  \n",
      "10                           4.423240  \n",
      "11                           1.098777  \n",
      "12                           6.279544  \n",
      "13                           4.562234  \n",
      "14                           2.320203  \n"
     ]
    }
   ],
   "source": [
    "# The following are lists containing the information described above.\n",
    "\n",
    "names=['United States','Canada','France','United Kingdom','Italy','Germany','Japan','Ireland','Mexico','Brazil','Indonesia','Kenya','China','India','Ethiopia']\n",
    "GDP_1980=[29288, 24716, 22557, 20044, 19912, 19617, 19147, 12845, 11954, 5297, 2249, 2049, 1578, 1196, 690]\n",
    "GDP_2014=[51958, 43376, 37360, 38083, 34876, 45320, 35574, 52186, 15521, 17459, 9797, 2971, 12514, 5451, 1505]\n",
    "\n",
    "\n",
    "# Step 1: Turn these pre-defined lists into a dictionary called \"gdp_dictionary\"\n",
    "gdp_dictionary = {'Country': names, 'GDP 1980': GDP_1980, 'GDP 2014': GDP_2014}\n",
    "\n",
    "#Step2: Convert your GDP dictionary into a DataFrame called \"gdp_df\"\n",
    "\n",
    "gdp_df = pd.DataFrame(gdp_dictionary)\n",
    "\n",
    "# Step 3: Use a custom function to calculate the average growth rate of GDP between 1980 and 2014 for all the countries at the same time.\n",
    "# Append you calculated field as another column on the \"gdp_df\" dataframe.\n",
    "AVG_gr = ((np.log(gdp_dictionary['GDP 2014']) - np.log(gdp_dictionary['GDP 1980'])) / 34) * 100\n",
    "\n",
    "AVG_gr1 = ((np.array(gdp_dictionary['GDP 2014']) / np.array(gdp_dictionary['GDP 1980']))**(1/34) - 1) * 100\n",
    "\n",
    "gdp_df['Average GDP growth rate(continuous)'] = AVG_gr\n",
    "\n",
    "gdp_df['Average GDP growth rate(discrete)'] = AVG_gr1\n",
    "\n",
    "#Step 4: Print your ouput\n",
    "print(gdp_df)\n",
    "\n",
    "\n"
   ]
  },
  {
   "cell_type": "markdown",
   "metadata": {},
   "source": [
    "**(b)** In part **(a)** you found the average growth rates for various countries. Do you think that there are some growth rates that are more common than others? Create a histogram and find out!"
   ]
  },
  {
   "cell_type": "code",
   "execution_count": 13,
   "metadata": {},
   "outputs": [
    {
     "data": {
      "image/png": "[encoded data removed]",
      "text/plain": [
       "<Figure size 432x288 with 1 Axes>"
      ]
     },
     "metadata": {
      "needs_background": "light"
     },
     "output_type": "display_data"
    }
   ],
   "source": [
    "# Hint: you can directly plot a histogram from the DataFrame if you don't want a lot of customization (google it!). \n",
    "#Otherwise you can use \"matplotlib.pyplot.hist\"\n",
    "hist = gdp_df.hist(column = 'Average GDP growth rate(discrete)')"
   ]
  },
  {
   "cell_type": "code",
   "execution_count": 14,
   "metadata": {},
   "outputs": [
    {
     "data": {
      "image/png": "[encoded data removed]",
      "text/plain": [
       "<Figure size 432x288 with 1 Axes>"
      ]
     },
     "metadata": {
      "needs_background": "light"
     },
     "output_type": "display_data"
    }
   ],
   "source": [
    "plt.hist(gdp_df['Average GDP growth rate(discrete)'])\n",
    "plt.show()"
   ]
  },
  {
   "cell_type": "markdown",
   "metadata": {},
   "source": [
    "## Q5) Practice Charting in Python\n",
    "\n",
    "a) The code below will walk you through importing data on Amazon's (AMZN) stock price over time. Create a time series plot of the stock price with time on the x-axis and price on the y-axis. Don't forget to make the graph look professional by including a proper lables, title, and some color to the data being plotted.\n",
    "\n",
    "*Hint: If you need a reminder on how to use Matplotlib, please see the DataCamp course \"Intermediate Python for Data Science\" section 1, or the Python Guide on Matplotlib on I-learn.*"
   ]
  },
  {
   "cell_type": "code",
   "execution_count": 15,
   "metadata": {},
   "outputs": [
    {
     "data": {
      "image/png": "[encoded data removed]",
      "text/plain": [
       "<Figure size 432x288 with 1 Axes>"
      ]
     },
     "metadata": {
      "needs_background": "light"
     },
     "output_type": "display_data"
    }
   ],
   "source": [
    "# Step 1: Import the data from Git Hub \n",
    "\n",
    "amzn = pd.read_csv('https://raw.githubusercontent.com/dylanjm/econ_381_development/master/data/AMZN.csv')\n",
    "\n",
    "# Step 2: Create x and y axis variables for plotting.\n",
    "\n",
    "#  date = np.array(amzn[\"Date\"], dtype=np.datetime64)\n",
    "amzn['Date'] = pd.to_datetime(amzn[\"Date\"])\n",
    "amzn['Year'] = amzn['Date'].dt.year\n",
    "\n",
    "price = np.array(amzn[\"Close\"])\n",
    "\n",
    "# Step 3: Insert your code below to make the time series plot using Python's Matplotlib.\n",
    "##  plt.plot(date, price, color = 'green', label = 'AMZN')\n",
    "plt.plot(amzn['Date'], price, color ='green', label = 'AMZN')\n",
    "\n",
    "# Defining the plot\n",
    "plt.ylabel('Price')\n",
    "plt.xlabel('Date')\n",
    "plt.title('AMZN Stock Price')\n",
    "plt.legend()\n",
    "\n",
    "# definition\n",
    "plt.show()\n",
    "\n",
    "\n"
   ]
  },
  {
   "cell_type": "markdown",
   "metadata": {},
   "source": [
    "b) The constant growth rate formula (both discrete and continuous) we have used throughout this assignment has many uses and different names. This same formula is used in Finance to calculate average returns for a miriad of assets. Let's use the discrete version of the formula to compute an average percent return for Amazon's stock prices during the time period we have data. You will use exactly the same formula from Q4 part (a), taking the first observation in \"price\" as $y_0$ and the last observation as $y_t$. Make sure that you calculate $t$ in years.\n"
   ]
  },
  {
   "cell_type": "code",
   "execution_count": 16,
   "metadata": {},
   "outputs": [
    {
     "name": "stdout",
     "output_type": "stream",
     "text": [
      "constant growth rate is % 76.539989574344\n"
     ]
    }
   ],
   "source": [
    "# Step 1: locate the first and last observations of the \"price\" array, store them as numpy array variables \"y_\"0 and \"y_t\"\n",
    "\n",
    "yo = price[0]\n",
    "yt = price[-1]\n",
    "#Step 2: calculate how many years have passed between the first and last observations in the \"date\" array corresponding \n",
    "#to our price observations. \n",
    "\n",
    "time1 = np.array(amzn['Year'])\n",
    "t = time1[-1] - time1[0]\n",
    "\n",
    "#Step 3: Use formula (3.9) in page 54 of the textbook.\n",
    "\n",
    "r = ((yt/yo)**(1/t) - 1) * 100\n",
    "\n",
    "#Step 4: Print your output!\n",
    "print('constant growth rate is %', r) \n",
    "\n"
   ]
  }
 ],
 "metadata": {
  "kernelspec": {
   "display_name": "Python 3",
   "language": "python",
   "name": "python3"
  },
  "language_info": {
   "codemirror_mode": {
    "name": "ipython",
    "version": 3
   },
   "file_extension": ".py",
   "mimetype": "text/x-python",
   "name": "python",
   "nbconvert_exporter": "python",
   "pygments_lexer": "ipython3",
   "version": "3.7.4"
  }
 },
 "nbformat": 4,
 "nbformat_minor": 4
}
