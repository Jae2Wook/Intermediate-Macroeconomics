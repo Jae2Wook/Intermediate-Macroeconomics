{
 "cells": [
  {
   "cell_type": "markdown",
   "metadata": {},
   "source": [
    "# Chapter 09 and 10 Exercises\n",
    "\n",
    "## Jae Wook Jung\n",
    "\n",
    "### Feb. 28. 2020"
   ]
  },
  {
   "cell_type": "markdown",
   "metadata": {},
   "source": [
    "# Chapter 9 "
   ]
  },
  {
   "cell_type": "markdown",
   "metadata": {},
   "source": [
    "## Q1) Measuring $\\bar{Y_t}$ and $\\tilde{Y_t}$\n",
    "\n",
    "__(a)__ Judging the state of the economy is a real-world problem faced by policymakers, forecasters, and businesses every day. Understanding what constitutes a business cycle is the first step in the road to greater understanding of your economic surroundings. Please create a Dataframe with the same structure as the table below:  \n",
    "\n",
    "| Year | Actual Output $Y_t$ | Potential Output $Y_t$ | Short-run output $\\tilde{Y_t}$ | Yearly growth rate of actual output % $\\delta Y$|\n",
    "|------|---------------------|------------------------|--------------------------------|-------------------------------------------------|\n",
    "| 1950 |            .        |            .           |              .                 |                     .                           |\n",
    "| 1951 |            .        |            .           |              .                 |                     .                           | \n",
    "| .    |            .        |            .           |              .                 |                     .                           | \n",
    "| .    |            .        |            .           |              .                 |                     .                           | \n",
    "| .    |            .        |            .           |              .                 |                     .                           |   \n",
    "| 2017 |            .        |            .           |              .                 |                     .                           | \n",
    "| 2018 |            .        |           .            |              .                 |                     .                           | \n",
    "\n",
    "\n",
    "* Use Quarterly US Real GDP - FRED series `GDPC1`- for actual output\n",
    "* Use Quarterly US Potential Real GDP - FRED series `GDPPOT`- for potential output \n"
   ]
  },
  {
   "cell_type": "code",
   "execution_count": 1,
   "metadata": {},
   "outputs": [
    {
     "data": {
      "text/html": [
       "<div>\n",
       "<style scoped>\n",
       "    .dataframe tbody tr th:only-of-type {\n",
       "        vertical-align: middle;\n",
       "    }\n",
       "\n",
       "    .dataframe tbody tr th {\n",
       "        vertical-align: top;\n",
       "    }\n",
       "\n",
       "    .dataframe thead th {\n",
       "        text-align: right;\n",
       "    }\n",
       "</style>\n",
       "<table border=\"1\" class=\"dataframe\">\n",
       "  <thead>\n",
       "    <tr style=\"text-align: right;\">\n",
       "      <th></th>\n",
       "      <th>Year</th>\n",
       "      <th>Actual Output Yt</th>\n",
       "      <th>Potential Output Yt</th>\n",
       "      <th>Short-run Output Yt</th>\n",
       "      <th>Yearly growth rate of actual output % dYt</th>\n",
       "    </tr>\n",
       "  </thead>\n",
       "  <tbody>\n",
       "    <tr>\n",
       "      <td>0</td>\n",
       "      <td>1949-01-01</td>\n",
       "      <td>2105.562</td>\n",
       "      <td>2105.424751</td>\n",
       "      <td>0.006519</td>\n",
       "      <td>0.000000</td>\n",
       "    </tr>\n",
       "    <tr>\n",
       "      <td>1</td>\n",
       "      <td>1949-04-01</td>\n",
       "      <td>2098.380</td>\n",
       "      <td>2133.335241</td>\n",
       "      <td>-1.638525</td>\n",
       "      <td>-0.341097</td>\n",
       "    </tr>\n",
       "    <tr>\n",
       "      <td>2</td>\n",
       "      <td>1949-07-01</td>\n",
       "      <td>2120.044</td>\n",
       "      <td>2162.374385</td>\n",
       "      <td>-1.957588</td>\n",
       "      <td>1.032415</td>\n",
       "    </tr>\n",
       "    <tr>\n",
       "      <td>3</td>\n",
       "      <td>1949-10-01</td>\n",
       "      <td>2102.251</td>\n",
       "      <td>2190.094474</td>\n",
       "      <td>-4.010945</td>\n",
       "      <td>-0.839275</td>\n",
       "    </tr>\n",
       "    <tr>\n",
       "      <td>4</td>\n",
       "      <td>1950-01-01</td>\n",
       "      <td>2184.872</td>\n",
       "      <td>2219.369859</td>\n",
       "      <td>-1.554399</td>\n",
       "      <td>3.930121</td>\n",
       "    </tr>\n",
       "    <tr>\n",
       "      <td>...</td>\n",
       "      <td>...</td>\n",
       "      <td>...</td>\n",
       "      <td>...</td>\n",
       "      <td>...</td>\n",
       "      <td>...</td>\n",
       "    </tr>\n",
       "    <tr>\n",
       "      <td>279</td>\n",
       "      <td>2018-10-01</td>\n",
       "      <td>18783.548</td>\n",
       "      <td>18711.030000</td>\n",
       "      <td>0.387568</td>\n",
       "      <td>0.271333</td>\n",
       "    </tr>\n",
       "    <tr>\n",
       "      <td>280</td>\n",
       "      <td>2019-01-01</td>\n",
       "      <td>18927.281</td>\n",
       "      <td>18806.420000</td>\n",
       "      <td>0.642658</td>\n",
       "      <td>0.765207</td>\n",
       "    </tr>\n",
       "    <tr>\n",
       "      <td>281</td>\n",
       "      <td>2019-04-01</td>\n",
       "      <td>19021.860</td>\n",
       "      <td>18903.140000</td>\n",
       "      <td>0.628044</td>\n",
       "      <td>0.499697</td>\n",
       "    </tr>\n",
       "    <tr>\n",
       "      <td>282</td>\n",
       "      <td>2019-07-01</td>\n",
       "      <td>19121.112</td>\n",
       "      <td>19000.870000</td>\n",
       "      <td>0.632824</td>\n",
       "      <td>0.521779</td>\n",
       "    </tr>\n",
       "    <tr>\n",
       "      <td>283</td>\n",
       "      <td>2019-10-01</td>\n",
       "      <td>19220.490</td>\n",
       "      <td>19099.880000</td>\n",
       "      <td>0.631470</td>\n",
       "      <td>0.519729</td>\n",
       "    </tr>\n",
       "  </tbody>\n",
       "</table>\n",
       "<p>284 rows × 5 columns</p>\n",
       "</div>"
      ],
      "text/plain": [
       "          Year  Actual Output Yt  Potential Output Yt  Short-run Output Yt  \\\n",
       "0   1949-01-01          2105.562          2105.424751             0.006519   \n",
       "1   1949-04-01          2098.380          2133.335241            -1.638525   \n",
       "2   1949-07-01          2120.044          2162.374385            -1.957588   \n",
       "3   1949-10-01          2102.251          2190.094474            -4.010945   \n",
       "4   1950-01-01          2184.872          2219.369859            -1.554399   \n",
       "..         ...               ...                  ...                  ...   \n",
       "279 2018-10-01         18783.548         18711.030000             0.387568   \n",
       "280 2019-01-01         18927.281         18806.420000             0.642658   \n",
       "281 2019-04-01         19021.860         18903.140000             0.628044   \n",
       "282 2019-07-01         19121.112         19000.870000             0.632824   \n",
       "283 2019-10-01         19220.490         19099.880000             0.631470   \n",
       "\n",
       "     Yearly growth rate of actual output % dYt  \n",
       "0                                     0.000000  \n",
       "1                                    -0.341097  \n",
       "2                                     1.032415  \n",
       "3                                    -0.839275  \n",
       "4                                     3.930121  \n",
       "..                                         ...  \n",
       "279                                   0.271333  \n",
       "280                                   0.765207  \n",
       "281                                   0.499697  \n",
       "282                                   0.521779  \n",
       "283                                   0.519729  \n",
       "\n",
       "[284 rows x 5 columns]"
      ]
     },
     "execution_count": 1,
     "metadata": {},
     "output_type": "execute_result"
    }
   ],
   "source": [
    "import numpy as np\n",
    "import pandas as pd\n",
    "\n",
    "#Step 1: Import the FRED series\n",
    "Real_GDP = pd.read_csv(r\"C:\\Users\\Jae\\Desktop\\Econ 381\\homework\\W09\\GDPC1.csv\", header = 0, names = [\"Date\", \"R_GDP\"])\n",
    "Real_potential = pd.read_csv(r\"C:\\Users\\Jae\\Desktop\\Econ 381\\homework\\W09\\GDPPOT.csv\", header = 0, names = [\"Date\", \"R_potential\"])\n",
    "\n",
    "#Step 2: Create arrays for each variable in the df\n",
    "Year = []\n",
    "Yt = []\n",
    "Yt_bar = []\n",
    "i = 0\n",
    "\n",
    "for i in range(0, 284):\n",
    "    Year = np.append(Year, Real_GDP[\"Date\"][i + 8])\n",
    "    Yt = np.append(Yt, Real_GDP[\"R_GDP\"][i + 8])\n",
    "# print(Year[0])  1949-01-01\n",
    "# print(Yt[283])  2019-10-01\n",
    "# print(Year[283]) 2019-10-01\n",
    "i = 0\n",
    "for i in range(0, 284):\n",
    "    Yt_bar = np.append(Yt_bar, Real_potential[\"R_potential\"][i])\n",
    "# print(Yt_bar[283])  2019-10-01\n",
    "\n",
    "i = 0\n",
    "change_Yt =[0]\n",
    "\n",
    "for i in range(0, 283):\n",
    "    i += 1\n",
    "    change_Yt = np.append(change_Yt, ((Yt[i] - Yt[i - 1]) / Yt[i - 1]) * 100)\n",
    "\n",
    "#Step 3: Create a dictionary\n",
    "df = pd.DataFrame({\"Year\": Year, \"Actual Output Yt\": Yt, \"Potential Output Yt\": Yt_bar},\n",
    "                   columns = [\"Year\", \"Actual Output Yt\", \"Potential Output Yt\"])\n",
    "df[\"Short-run Output Yt\"] = ((df[\"Actual Output Yt\"] - df[\"Potential Output Yt\"]) / df[\"Potential Output Yt\"]) * 100\n",
    "df[\"Yearly growth rate of actual output % dYt\"] = change_Yt\n",
    "\n",
    "df[\"Year\"] = np.array(df[\"Year\"], dtype = np.datetime64)\n",
    "# df[\"Year\"] = pd.to_datetime(df[\"Year\"])\n",
    "# df[\"Year\"] = (df[\"Year\"]).dt.year\n",
    "#Step 4: Create the dataframe\n",
    "df\n"
   ]
  },
  {
   "cell_type": "markdown",
   "metadata": {},
   "source": [
    "__(b)__ Create a three plots. One containing of two time series, actual output and potential output. The second containing the time series for short-run output. Lastly, a graph of the yearly growth rate of actual output."
   ]
  },
  {
   "cell_type": "code",
   "execution_count": 12,
   "metadata": {},
   "outputs": [
    {
     "data": {
      "image/png": "[encoded data removed]",
      "text/plain": [
       "<Figure size 432x288 with 1 Axes>"
      ]
     },
     "metadata": {
      "needs_background": "light"
     },
     "output_type": "display_data"
    },
    {
     "data": {
      "image/png": "[encoded data removed]",
      "text/plain": [
       "<Figure size 432x288 with 1 Axes>"
      ]
     },
     "metadata": {
      "needs_background": "light"
     },
     "output_type": "display_data"
    },
    {
     "data": {
      "image/png": "[encoded data removed]",
      "text/plain": [
       "<Figure size 432x288 with 1 Axes>"
      ]
     },
     "metadata": {
      "needs_background": "light"
     },
     "output_type": "display_data"
    }
   ],
   "source": [
    "import matplotlib.pyplot as plt\n",
    "\n",
    "plt.plot(df[\"Year\"], Yt, \"red\", label = \"Actual Output\")\n",
    "plt.plot(df[\"Year\"], Yt_bar, \"green\", label = \"Potential Output\")\n",
    "plt.title(\"Yt & Yt_bar\")\n",
    "plt.xlabel(\"Year\")\n",
    "plt.ylabel(\"Billions of chaied 2012 dollars\")\n",
    "plt.legend()\n",
    "# plt.xticks([\"1949\", \"1960\", \"1970\", \"1980\", \"1990\", \"2000\", \"2010\", \"2019\"])\n",
    "plt.show()\n",
    "\n",
    "plt.plot(df[\"Year\"], df[\"Short-run Output Yt\"], \"black\", label = \"Short-run Output\")\n",
    "plt.title(\"Short-run Output\")\n",
    "plt.xlabel(\"Year\")\n",
    "plt.ylabel(\"percentage\")\n",
    "plt.legend()\n",
    "plt.show()\n",
    "\n",
    "plt.plot(df[\"Year\"], df[\"Yearly growth rate of actual output % dYt\"],  label = \"%change\")\n",
    "plt.title(\"Yearly growth rate\")\n",
    "plt.xlabel(\"Year\")\n",
    "plt.ylabel(\"percentage\")\n",
    "plt.legend()\n",
    "plt.show()"
   ]
  },
  {
   "cell_type": "markdown",
   "metadata": {},
   "source": [
    "__(c)__ Comment on the state of the economy in each year. When does the economy enter a recession? When does the recession end? "
   ]
  },
  {
   "cell_type": "markdown",
   "metadata": {},
   "source": [
    "The years that the short-run outputs go down under 0%, the recessions start. There are some years that short-run outputs go under the zero percent on the graph. Bouncing up from the very bottom of the peak is when a recession ends."
   ]
  },
  {
   "cell_type": "markdown",
   "metadata": {},
   "source": [
    "__(d)__ How is your answer in part (c) related to the growth rate of the actual output?"
   ]
  },
  {
   "cell_type": "markdown",
   "metadata": {},
   "source": [
    "Yearly growth rate of the actual output drops when the short-run outputs drop. Since when the short-run output bounces from the very bottom peak, yearly growth rate of the actual output drop is coming back to positive percentage from the negative percentage."
   ]
  },
  {
   "cell_type": "markdown",
   "metadata": {},
   "source": [
    "__(e)__ Is there a pattern to the timing and severity of recessions? What are the life implications of your answer?"
   ]
  },
  {
   "cell_type": "markdown",
   "metadata": {},
   "source": [
    "Every after the highest peak of the short-run output, the short-run output drops to the negative percentage which is a recession starts. But the thing is we don't know when is the highest at moments. Seems like almost every 5 years we are having recessions."
   ]
  },
  {
   "cell_type": "markdown",
   "metadata": {},
   "source": [
    "## Q2) An Oil Shock\n",
    "\n",
    "Consider an economy that begins with output at its potential level and a relatively high inflation rate of $6\\%$, reflecting some recent oil price shocks. As the head of the Federal Reserve, your job is to pick a sequence of short-run output levels that will get the rate of inflation back down to $3\\%$ no later than 3 years from now. Your expert staff offers you the following policy menu options.\n",
    "\n",
    "$$\n",
    "\\text{Short Run Output}\n",
    "$$\n",
    "\n",
    "| Option | Year 1 | Year 2 | Year 3 | \n",
    "|--------|--------|--------|--------|\n",
    "| 1      | -6%    | 0      |  0     |\n",
    "| 2      | -4%    | -2%    |  0     | \n",
    "| 3      | -2%    | -2%    |   -2%  |\n",
    "\n",
    "$$\n",
    "\\text{Inflation}\n",
    "$$\n",
    "\n",
    "| Option | Year 1 | Year 2 | Year 3 | \n",
    "|--------|--------|--------|--------|\n",
    "| 1      | 3%     | 3%     |  3%    |\n",
    "| 2      | 4%     | 3%     |  3%    | \n",
    "| 3      | 5%     | 4%     |   3%   |\n",
    "\n"
   ]
  },
  {
   "cell_type": "markdown",
   "metadata": {},
   "source": [
    "__(a)__ The policy options provided imply a particular Phillips curve. Please use the data points provided to plot the underlying Phillips curve. What is the slope of this Phillips curve?"
   ]
  },
  {
   "cell_type": "code",
   "execution_count": 3,
   "metadata": {},
   "outputs": [
    {
     "data": {
      "image/png": "[encoded data removed]",
      "text/plain": [
       "<Figure size 432x288 with 1 Axes>"
      ]
     },
     "metadata": {
      "needs_background": "light"
     },
     "output_type": "display_data"
    },
    {
     "name": "stdout",
     "output_type": "stream",
     "text": [
      "slope = inf_change / short-run: 0.5\n"
     ]
    }
   ],
   "source": [
    "# change_inf / short-run_output = slope of the Phillips curve\n",
    "\n",
    "# yr0 = y_bar, inflation rate 6%. \n",
    "\n",
    "# opt1) \n",
    "#short-run output    inf\n",
    "#yr0) 0              6\n",
    "#yr1) -6             3\n",
    "#yr2) 0              3\n",
    "#yr3) 0              3\n",
    "short_run1 = [-6, 0, 0]\n",
    "inf_change1 = [-3, 0, 0]\n",
    "\n",
    "plt.plot(short_run1, inf_change1)\n",
    "plt.title(\"option 1\")\n",
    "plt.xlabel(\"short-run output\")\n",
    "plt.ylabel(\"inflation change\")\n",
    "plt.show()\n",
    "\n",
    "print(\"slope = inf_change / short-run: 0.5\" )"
   ]
  },
  {
   "cell_type": "code",
   "execution_count": 4,
   "metadata": {},
   "outputs": [
    {
     "data": {
      "image/png": "[encoded data removed]",
      "text/plain": [
       "<Figure size 432x288 with 1 Axes>"
      ]
     },
     "metadata": {
      "needs_background": "light"
     },
     "output_type": "display_data"
    },
    {
     "name": "stdout",
     "output_type": "stream",
     "text": [
      "slope = inf_change / short-run: 0.5\n"
     ]
    }
   ],
   "source": [
    "# opt2) \n",
    "#short-run output inf\n",
    "#yr0) 0            6\n",
    "#yr1) -4           4\n",
    "#yr2) -2           3\n",
    "#yr3) 0            3\n",
    "short_run2 = [-4, -2, 0]\n",
    "inf_change2 = [-2, -1, 0]\n",
    "\n",
    "plt.plot(short_run2, inf_change2)\n",
    "plt.title(\"option 2\")\n",
    "plt.xlabel(\"short-run output\")\n",
    "plt.ylabel(\"inflation change\")\n",
    "plt.show()\n",
    "\n",
    "print(\"slope = inf_change / short-run: 0.5\")"
   ]
  },
  {
   "cell_type": "code",
   "execution_count": 5,
   "metadata": {},
   "outputs": [
    {
     "data": {
      "image/png": "[encoded data removed]",
      "text/plain": [
       "<Figure size 432x288 with 1 Axes>"
      ]
     },
     "metadata": {
      "needs_background": "light"
     },
     "output_type": "display_data"
    },
    {
     "name": "stdout",
     "output_type": "stream",
     "text": [
      "slope = inf_change / short-run: 0.5\n"
     ]
    }
   ],
   "source": [
    "# opt3) \n",
    "#short-run output inf\n",
    "#yr0) 0           6\n",
    "#yr1) -2          5\n",
    "#yr2) -2          4\n",
    "#yr3) -2          3\n",
    "short_run3 = [-2, -2, -2]\n",
    "inf_change3 = [-1, -1, -1]\n",
    "\n",
    "plt.scatter(short_run3, inf_change3)\n",
    "plt.title(\"option 3\")\n",
    "plt.xlabel(\"short-run output\")\n",
    "plt.ylabel(\"inflation change\")\n",
    "plt.show()\n",
    "\n",
    "print(\"slope = inf_change / short-run: 0.5\", )"
   ]
  },
  {
   "cell_type": "markdown",
   "metadata": {},
   "source": [
    "__(b)__ If you as a policymaker cared primarily about output and not much about the inflation rate, which option would you recommend? Why? "
   ]
  },
  {
   "cell_type": "markdown",
   "metadata": {},
   "source": [
    "option 3. Short-run output has to drop to drop the inflation. By dropping the short-run output little by little not to give a big shock to the economy suddenly. And dropping the inflation rate little by little."
   ]
  },
  {
   "cell_type": "markdown",
   "metadata": {},
   "source": [
    "__(c)__ If you cared primarily about inflation and not much about output, which option would you recommend? Why?"
   ]
  },
  {
   "cell_type": "markdown",
   "metadata": {},
   "source": [
    "Option 1. Just to meet the inflation to 3%, just do it not thinking about short-run output. Dropping 6% of short-run output can be a big chaos to the economy"
   ]
  },
  {
   "cell_type": "markdown",
   "metadata": {},
   "source": [
    "__(d)__ Explain the general trade-off that policymakers face according to the Phillips curve."
   ]
  },
  {
   "cell_type": "markdown",
   "metadata": {},
   "source": [
    "If the policymakers want the inflation drop, they have to drop the short-run output, too. The inflation rate and short-run output is in positive relationship."
   ]
  },
  {
   "cell_type": "markdown",
   "metadata": {},
   "source": [
    "## Q3) Okun's Law\n",
    "\n",
    "Suppose the economy has a natural rate of unemployment of 5%. \n",
    "\n",
    "__(a)__ Suppose short-run output over the next 4 years is 1%, 0%, -2%, and -2%. According to Okun's law, what unemployment rates would we expect to see in this economy?"
   ]
  },
  {
   "cell_type": "markdown",
   "metadata": {},
   "source": [
    "yr1 = (u - 5) / 1 = -0.5\\\n",
    "yr2 = (u - 5) / 0 = -0.5\\\n",
    "yr3 = (u - 5) / -2 = -0.5\\\n",
    "yr4 = (u - 5) / -2 = -0.5\n",
    "\n",
    "yr1) unemployment rate = 4.5\\\n",
    "yr2) unemployment rate = 5\\\n",
    "yr3) unemployment rate = 4\\\n",
    "yr4) unemployment rate = 4"
   ]
  },
  {
   "cell_type": "markdown",
   "metadata": {},
   "source": [
    "__(b)__ Consider another economy in which the unemployment rate over the next 3 years is 6%, 7%, and then 4%. According to Okun's law, what are the levels of short-run output $\\tilde{Y_t}$ in this economy?"
   ]
  },
  {
   "cell_type": "markdown",
   "metadata": {},
   "source": [
    "u - u_bar / slope(= -0.5)(?) = short-run output\n",
    "\n",
    "yr1) 6 - 5, 1 / (-0.5) = -2(short-run output)\\\n",
    "yr2) 7 - 5, 2 / (-0.5) = -4(short-run output)\\\n",
    "yr3) 4 - 5, -1 / (-0.5) = 2(short-run output)"
   ]
  },
  {
   "cell_type": "markdown",
   "metadata": {},
   "source": [
    "__(c)__ Suppose that the slope of the linear function in Figure 9.8 in your book (page 248) is not $\\frac{1}{2}$ but $\\frac{1}{3}$. What are the implications of this change on your estimates for parts __(a)__ and __(b)__ of this question? Please give numerical answers and provide a written analysis below."
   ]
  },
  {
   "cell_type": "markdown",
   "metadata": {},
   "source": [
    "(a) will not be affected.\\\n",
    "(b)\\\n",
    "yr1) 1 / (1/3) = 3(short-run output)\\\n",
    "yr2) 2 / (1/3) = 6(short-run output)\\\n",
    "yr3) -1 / (1/3) = -3(short-run output)"
   ]
  },
  {
   "cell_type": "markdown",
   "metadata": {},
   "source": [
    "## Q3) Another version of the Phillips Curve\n",
    "\n",
    "A more widely used version of the Phillips curve depicts the relationship between inflation and unemployment. We use inflation and unemployment because there is easily accesible data on these indicators from the US BLS and because obtaining estimates of potential output are difficult and sensitive to the assumptions we used to calculate them. \n",
    "\n",
    "__(a)__ Please write down the equation for the Phillips curve linking inflation and short run output $\\tilde{Y}$ (depicted in figure 9.6 of your texbook on page 244.)"
   ]
  },
  {
   "cell_type": "markdown",
   "metadata": {},
   "source": [
    "change_inf = 1/3 * short-run output"
   ]
  },
  {
   "cell_type": "markdown",
   "metadata": {},
   "source": [
    "__(b)__ The equation for Okun's Law is $u-\\bar{u}=-\\frac{\\tilde{Y}}{2}$. Combine the equation for the Phillips curve from part __(a)__ and the Okun's Law equation to create a theoretical expression for the Phillips curve depicting the relationship between changes in inflation and cyclical unemployment. "
   ]
  },
  {
   "cell_type": "markdown",
   "metadata": {},
   "source": [
    "u - u_bar = -3/2 * change_inf"
   ]
  },
  {
   "cell_type": "markdown",
   "metadata": {},
   "source": [
    "__(c)__ How does the slope of Okun's Law and the slope of the Phillips curve influence the relationship between changes in inflation and cyclical unemployment?"
   ]
  },
  {
   "cell_type": "markdown",
   "metadata": {},
   "source": [
    "when inflation rises 2 percent, cyclical unemployment falls -3 percent."
   ]
  },
  {
   "cell_type": "markdown",
   "metadata": {},
   "source": [
    "__(d)__ Go to FRED and download the series for US inflation rate (BPCCRO1Q156NBEA), civilian unemployment rate (UNRATE), and natural rate of unemployment(NROU) from 1960 to the current year. Using those series calculate quarterly cyclical unemployment ($u-\\bar{u}$) and changes in the quarterly inflation rate ($\\Delta \\pi = \\pi_{Q_{i}}-\\pi_{Q_{i-1}}$) for every quarter in the data. Use a scatter plot to illustrate the statistical relationship between $\\Delta \\pi$ and $u-\\bar{u}$. Make sure to put $\\Delta \\pi$ on the y-axis."
   ]
  },
  {
   "cell_type": "code",
   "execution_count": 6,
   "metadata": {},
   "outputs": [
    {
     "name": "stdout",
     "output_type": "stream",
     "text": [
      "2019-10-01\n",
      "2019-10-01\n",
      "2019-10-01\n",
      "           Date      Naun\n",
      "0    1949-01-01  5.255053\n",
      "1    1949-04-01  5.261516\n",
      "2    1949-07-01  5.268013\n",
      "3    1949-10-01  5.274564\n",
      "4    1950-01-01  5.281182\n",
      "..          ...       ...\n",
      "323  2029-10-01  4.210983\n",
      "324  2030-01-01  4.203966\n",
      "325  2030-04-01  4.196964\n",
      "326  2030-07-01  4.189984\n",
      "327  2030-10-01  4.183028\n",
      "\n",
      "[328 rows x 2 columns]\n"
     ]
    },
    {
     "data": {
      "text/html": [
       "<div>\n",
       "<style scoped>\n",
       "    .dataframe tbody tr th:only-of-type {\n",
       "        vertical-align: middle;\n",
       "    }\n",
       "\n",
       "    .dataframe tbody tr th {\n",
       "        vertical-align: top;\n",
       "    }\n",
       "\n",
       "    .dataframe thead th {\n",
       "        text-align: right;\n",
       "    }\n",
       "</style>\n",
       "<table border=\"1\" class=\"dataframe\">\n",
       "  <thead>\n",
       "    <tr style=\"text-align: right;\">\n",
       "      <th></th>\n",
       "      <th>Year</th>\n",
       "      <th>Inflation rate</th>\n",
       "      <th>Unemployment rate</th>\n",
       "      <th>Natural unemployment rate</th>\n",
       "      <th>Inflation change</th>\n",
       "      <th>Cyclical unemployment</th>\n",
       "    </tr>\n",
       "  </thead>\n",
       "  <tbody>\n",
       "    <tr>\n",
       "      <td>0</td>\n",
       "      <td>1960-01-01</td>\n",
       "      <td>2.1</td>\n",
       "      <td>5.1333333333333333</td>\n",
       "      <td>5.456452</td>\n",
       "      <td>0.0</td>\n",
       "      <td>-0.323119</td>\n",
       "    </tr>\n",
       "    <tr>\n",
       "      <td>1</td>\n",
       "      <td>1960-04-01</td>\n",
       "      <td>1.9</td>\n",
       "      <td>5.2333333333333333</td>\n",
       "      <td>5.463051</td>\n",
       "      <td>0.5</td>\n",
       "      <td>-0.229718</td>\n",
       "    </tr>\n",
       "    <tr>\n",
       "      <td>2</td>\n",
       "      <td>1960-07-01</td>\n",
       "      <td>1.7</td>\n",
       "      <td>5.5333333333333333</td>\n",
       "      <td>5.469830</td>\n",
       "      <td>-0.2</td>\n",
       "      <td>0.063504</td>\n",
       "    </tr>\n",
       "    <tr>\n",
       "      <td>3</td>\n",
       "      <td>1960-10-01</td>\n",
       "      <td>1.4</td>\n",
       "      <td>6.2666666666666667</td>\n",
       "      <td>5.476770</td>\n",
       "      <td>-0.2</td>\n",
       "      <td>0.789897</td>\n",
       "    </tr>\n",
       "    <tr>\n",
       "      <td>4</td>\n",
       "      <td>1961-01-01</td>\n",
       "      <td>1.3</td>\n",
       "      <td>6.8000000000000000</td>\n",
       "      <td>5.483875</td>\n",
       "      <td>-0.3</td>\n",
       "      <td>1.316125</td>\n",
       "    </tr>\n",
       "    <tr>\n",
       "      <td>...</td>\n",
       "      <td>...</td>\n",
       "      <td>...</td>\n",
       "      <td>...</td>\n",
       "      <td>...</td>\n",
       "      <td>...</td>\n",
       "      <td>...</td>\n",
       "    </tr>\n",
       "    <tr>\n",
       "      <td>235</td>\n",
       "      <td>2018-10-01</td>\n",
       "      <td>1.9</td>\n",
       "      <td>3.8000000000000000</td>\n",
       "      <td>4.474808</td>\n",
       "      <td>0.0</td>\n",
       "      <td>-0.674808</td>\n",
       "    </tr>\n",
       "    <tr>\n",
       "      <td>236</td>\n",
       "      <td>2019-01-01</td>\n",
       "      <td>1.6</td>\n",
       "      <td>3.8666666666666667</td>\n",
       "      <td>4.467318</td>\n",
       "      <td>-0.1</td>\n",
       "      <td>-0.600652</td>\n",
       "    </tr>\n",
       "    <tr>\n",
       "      <td>237</td>\n",
       "      <td>2019-04-01</td>\n",
       "      <td>1.6</td>\n",
       "      <td>3.6333333333333333</td>\n",
       "      <td>4.459941</td>\n",
       "      <td>-0.3</td>\n",
       "      <td>-0.826608</td>\n",
       "    </tr>\n",
       "    <tr>\n",
       "      <td>238</td>\n",
       "      <td>2019-07-01</td>\n",
       "      <td>1.7</td>\n",
       "      <td>3.6333333333333333</td>\n",
       "      <td>4.452636</td>\n",
       "      <td>0.0</td>\n",
       "      <td>-0.819303</td>\n",
       "    </tr>\n",
       "    <tr>\n",
       "      <td>239</td>\n",
       "      <td>2019-10-01</td>\n",
       "      <td>1.6</td>\n",
       "      <td>3.5333333333333333</td>\n",
       "      <td>4.445388</td>\n",
       "      <td>0.1</td>\n",
       "      <td>-0.912055</td>\n",
       "    </tr>\n",
       "  </tbody>\n",
       "</table>\n",
       "<p>240 rows × 6 columns</p>\n",
       "</div>"
      ],
      "text/plain": [
       "           Year  Inflation rate   Unemployment rate  \\\n",
       "0    1960-01-01             2.1  5.1333333333333333   \n",
       "1    1960-04-01             1.9  5.2333333333333333   \n",
       "2    1960-07-01             1.7  5.5333333333333333   \n",
       "3    1960-10-01             1.4  6.2666666666666667   \n",
       "4    1961-01-01             1.3  6.8000000000000000   \n",
       "..          ...             ...                 ...   \n",
       "235  2018-10-01             1.9  3.8000000000000000   \n",
       "236  2019-01-01             1.6  3.8666666666666667   \n",
       "237  2019-04-01             1.6  3.6333333333333333   \n",
       "238  2019-07-01             1.7  3.6333333333333333   \n",
       "239  2019-10-01             1.6  3.5333333333333333   \n",
       "\n",
       "     Natural unemployment rate  Inflation change  Cyclical unemployment  \n",
       "0                     5.456452               0.0              -0.323119  \n",
       "1                     5.463051               0.5              -0.229718  \n",
       "2                     5.469830              -0.2               0.063504  \n",
       "3                     5.476770              -0.2               0.789897  \n",
       "4                     5.483875              -0.3               1.316125  \n",
       "..                         ...               ...                    ...  \n",
       "235                   4.474808               0.0              -0.674808  \n",
       "236                   4.467318              -0.1              -0.600652  \n",
       "237                   4.459941              -0.3              -0.826608  \n",
       "238                   4.452636               0.0              -0.819303  \n",
       "239                   4.445388               0.1              -0.912055  \n",
       "\n",
       "[240 rows x 6 columns]"
      ]
     },
     "execution_count": 6,
     "metadata": {},
     "output_type": "execute_result"
    }
   ],
   "source": [
    "inf_rate = pd.read_csv(r\"C:\\Users\\Jae\\Desktop\\Econ 381\\homework\\W09\\inflation rate_quarterly.csv\", header = 0, names = [\"Date\", \"Inf_rate\"])\n",
    "un_rate = pd.read_csv(r\"C:\\Users\\Jae\\Desktop\\Econ 381\\homework\\W09\\unemployment rate_quarterly.csv\", header = 0, names = [\"Date\", \"Un\"])\n",
    "naun_rate = pd.read_csv(r\"C:\\Users\\Jae\\Desktop\\Econ 381\\homework\\W09\\natural unemployment rate_quarterly.csv\", header = 0, names = [\"Date\", \"Naun\"])\n",
    "print(naun_rate[\"Date\"][44+239])\n",
    "print(inf_rate[\"Date\"][0+239])\n",
    "print(un_rate[\"Date\"][48+239])\n",
    "print(naun_rate)\n",
    "\n",
    "Y = []\n",
    "inf = []\n",
    "un = []\n",
    "naun = []\n",
    "change_inf = [0]\n",
    "\n",
    "i = 0\n",
    "for i in range(0, 240):\n",
    "    inf = np.append(inf, inf_rate[\"Inf_rate\"][i])\n",
    "    Y = np.append(Y, inf_rate[\"Date\"][i])\n",
    "    \n",
    "i = 0\n",
    "for i in range(0, 240):\n",
    "    un = np.append(un, un_rate[\"Un\"][i + 48])\n",
    "\n",
    "i = 0\n",
    "for i in range(0, 240):\n",
    "    naun = np.append(naun, naun_rate[\"Naun\"][i + 44])\n",
    "    \n",
    "i = 0\n",
    "for i in range(0, 239):\n",
    "    change_inf = np.append(change_inf, inf[i] - inf[i - 1])\n",
    "\n",
    "df1 = pd.DataFrame({\"Year\": Y, \"Inflation rate\": inf, \"Unemployment rate\": un, \"Natural unemployment rate\": naun, \"Inflation change\": change_inf}, \n",
    "                    columns = [\"Year\", \"Inflation rate\", \"Unemployment rate\", \"Natural unemployment rate\", \"Inflation change\"])\n",
    "\n",
    "df1[\"Cyclical unemployment\"] = df1[\"Unemployment rate\"].astype(float) - df1[\"Natural unemployment rate\"]\n",
    "\n",
    "df1\n"
   ]
  },
  {
   "cell_type": "code",
   "execution_count": 7,
   "metadata": {},
   "outputs": [
    {
     "data": {
      "image/png": "[encoded data removed]",
      "text/plain": [
       "<Figure size 432x288 with 1 Axes>"
      ]
     },
     "metadata": {
      "needs_background": "light"
     },
     "output_type": "display_data"
    }
   ],
   "source": [
    "plt.scatter(df1[\"Cyclical unemployment\"], df1[\"Inflation change\"])\n",
    "plt.title(\"Inflation change & cyclical unemployment relation\")\n",
    "plt.xlabel(\"cyclical unemployment\")\n",
    "plt.ylabel(\"inflation change\")\n",
    "plt.show()"
   ]
  },
  {
   "cell_type": "code",
   "execution_count": 8,
   "metadata": {},
   "outputs": [
    {
     "name": "stdout",
     "output_type": "stream",
     "text": [
      "1960-01-01\n"
     ]
    },
    {
     "data": {
      "text/html": [
       "<div>\n",
       "<style scoped>\n",
       "    .dataframe tbody tr th:only-of-type {\n",
       "        vertical-align: middle;\n",
       "    }\n",
       "\n",
       "    .dataframe tbody tr th {\n",
       "        vertical-align: top;\n",
       "    }\n",
       "\n",
       "    .dataframe thead th {\n",
       "        text-align: right;\n",
       "    }\n",
       "</style>\n",
       "<table border=\"1\" class=\"dataframe\">\n",
       "  <thead>\n",
       "    <tr style=\"text-align: right;\">\n",
       "      <th></th>\n",
       "      <th>Year</th>\n",
       "      <th>Actual output</th>\n",
       "      <th>Inflation change</th>\n",
       "      <th>Short-run Output Yt</th>\n",
       "    </tr>\n",
       "  </thead>\n",
       "  <tbody>\n",
       "    <tr>\n",
       "      <td>0</td>\n",
       "      <td>1960-01-01</td>\n",
       "      <td>3275.757</td>\n",
       "      <td>0.0</td>\n",
       "      <td>0.006519</td>\n",
       "    </tr>\n",
       "    <tr>\n",
       "      <td>1</td>\n",
       "      <td>1960-04-01</td>\n",
       "      <td>3258.088</td>\n",
       "      <td>0.5</td>\n",
       "      <td>-1.638525</td>\n",
       "    </tr>\n",
       "    <tr>\n",
       "      <td>2</td>\n",
       "      <td>1960-07-01</td>\n",
       "      <td>3274.029</td>\n",
       "      <td>-0.2</td>\n",
       "      <td>-1.957588</td>\n",
       "    </tr>\n",
       "    <tr>\n",
       "      <td>3</td>\n",
       "      <td>1960-10-01</td>\n",
       "      <td>3232.009</td>\n",
       "      <td>-0.2</td>\n",
       "      <td>-4.010945</td>\n",
       "    </tr>\n",
       "    <tr>\n",
       "      <td>4</td>\n",
       "      <td>1961-01-01</td>\n",
       "      <td>3253.826</td>\n",
       "      <td>-0.3</td>\n",
       "      <td>-1.554399</td>\n",
       "    </tr>\n",
       "    <tr>\n",
       "      <td>...</td>\n",
       "      <td>...</td>\n",
       "      <td>...</td>\n",
       "      <td>...</td>\n",
       "      <td>...</td>\n",
       "    </tr>\n",
       "    <tr>\n",
       "      <td>235</td>\n",
       "      <td>2018-10-01</td>\n",
       "      <td>18783.548</td>\n",
       "      <td>0.0</td>\n",
       "      <td>0.196502</td>\n",
       "    </tr>\n",
       "    <tr>\n",
       "      <td>236</td>\n",
       "      <td>2019-01-01</td>\n",
       "      <td>18927.281</td>\n",
       "      <td>-0.1</td>\n",
       "      <td>-0.840211</td>\n",
       "    </tr>\n",
       "    <tr>\n",
       "      <td>237</td>\n",
       "      <td>2019-04-01</td>\n",
       "      <td>19021.860</td>\n",
       "      <td>-0.3</td>\n",
       "      <td>-0.766213</td>\n",
       "    </tr>\n",
       "    <tr>\n",
       "      <td>238</td>\n",
       "      <td>2019-07-01</td>\n",
       "      <td>19121.112</td>\n",
       "      <td>0.0</td>\n",
       "      <td>-1.705192</td>\n",
       "    </tr>\n",
       "    <tr>\n",
       "      <td>239</td>\n",
       "      <td>2019-10-01</td>\n",
       "      <td>19220.490</td>\n",
       "      <td>0.1</td>\n",
       "      <td>-4.190471</td>\n",
       "    </tr>\n",
       "  </tbody>\n",
       "</table>\n",
       "<p>240 rows × 4 columns</p>\n",
       "</div>"
      ],
      "text/plain": [
       "           Year  Actual output  Inflation change  Short-run Output Yt\n",
       "0    1960-01-01       3275.757               0.0             0.006519\n",
       "1    1960-04-01       3258.088               0.5            -1.638525\n",
       "2    1960-07-01       3274.029              -0.2            -1.957588\n",
       "3    1960-10-01       3232.009              -0.2            -4.010945\n",
       "4    1961-01-01       3253.826              -0.3            -1.554399\n",
       "..          ...            ...               ...                  ...\n",
       "235  2018-10-01      18783.548               0.0             0.196502\n",
       "236  2019-01-01      18927.281              -0.1            -0.840211\n",
       "237  2019-04-01      19021.860              -0.3            -0.766213\n",
       "238  2019-07-01      19121.112               0.0            -1.705192\n",
       "239  2019-10-01      19220.490               0.1            -4.190471\n",
       "\n",
       "[240 rows x 4 columns]"
      ]
     },
     "execution_count": 8,
     "metadata": {},
     "output_type": "execute_result"
    }
   ],
   "source": [
    "print(Real_GDP[\"Date\"][52])\n",
    "\n",
    "Year1 = []\n",
    "Yt1 = []\n",
    "change_inf1 = [0]\n",
    "i = 0\n",
    "for i in range(0, 240):\n",
    "    Year1 = np.append(Year1, Real_GDP[\"Date\"][i + 52])\n",
    "    Yt1 = np.append(Yt1, Real_GDP[\"R_GDP\"][i + 52])\n",
    "    \n",
    "i = 0\n",
    "for i in range(0, 239):\n",
    "    change_inf1 = np.append(change_inf1, inf[i] - inf[i - 1])\n",
    "    \n",
    "df2 = pd.DataFrame({\"Year\": Year1, \"Actual output\": Yt1, \"Inflation change\": change_inf1},\n",
    "                    columns = [\"Year\", \"Actual output\", \"Inflation change\"])\n",
    "\n",
    "df2[\"Short-run Output Yt\"] = ((df[\"Actual Output Yt\"] - df[\"Potential Output Yt\"]) / df[\"Potential Output Yt\"]) * 100\n",
    "\n",
    "df2"
   ]
  },
  {
   "cell_type": "code",
   "execution_count": 9,
   "metadata": {},
   "outputs": [
    {
     "data": {
      "image/png": "[encoded data removed]",
      "text/plain": [
       "<Figure size 432x288 with 1 Axes>"
      ]
     },
     "metadata": {
      "needs_background": "light"
     },
     "output_type": "display_data"
    }
   ],
   "source": [
    "plt.scatter(df2[\"Short-run Output Yt\"], df2[\"Inflation change\"])\n",
    "plt.title(\"Phillips curve\")\n",
    "plt.show()"
   ]
  },
  {
   "cell_type": "code",
   "execution_count": 10,
   "metadata": {},
   "outputs": [
    {
     "data": {
      "text/html": [
       "<div>\n",
       "<style scoped>\n",
       "    .dataframe tbody tr th:only-of-type {\n",
       "        vertical-align: middle;\n",
       "    }\n",
       "\n",
       "    .dataframe tbody tr th {\n",
       "        vertical-align: top;\n",
       "    }\n",
       "\n",
       "    .dataframe thead th {\n",
       "        text-align: right;\n",
       "    }\n",
       "</style>\n",
       "<table border=\"1\" class=\"dataframe\">\n",
       "  <thead>\n",
       "    <tr style=\"text-align: right;\">\n",
       "      <th></th>\n",
       "      <th>Actual output</th>\n",
       "      <th>Unemployment</th>\n",
       "      <th>Natural unemployment</th>\n",
       "      <th>Cyclical Unemployment</th>\n",
       "      <th>Short-run Output Yt</th>\n",
       "    </tr>\n",
       "  </thead>\n",
       "  <tbody>\n",
       "    <tr>\n",
       "      <td>0</td>\n",
       "      <td>3275.757</td>\n",
       "      <td>5.1333333333333333</td>\n",
       "      <td>5.456452</td>\n",
       "      <td>-0.323119</td>\n",
       "      <td>0.006519</td>\n",
       "    </tr>\n",
       "    <tr>\n",
       "      <td>1</td>\n",
       "      <td>3258.088</td>\n",
       "      <td>5.2333333333333333</td>\n",
       "      <td>5.463051</td>\n",
       "      <td>-0.229718</td>\n",
       "      <td>-1.638525</td>\n",
       "    </tr>\n",
       "    <tr>\n",
       "      <td>2</td>\n",
       "      <td>3274.029</td>\n",
       "      <td>5.5333333333333333</td>\n",
       "      <td>5.469830</td>\n",
       "      <td>0.063504</td>\n",
       "      <td>-1.957588</td>\n",
       "    </tr>\n",
       "    <tr>\n",
       "      <td>3</td>\n",
       "      <td>3232.009</td>\n",
       "      <td>6.2666666666666667</td>\n",
       "      <td>5.476770</td>\n",
       "      <td>0.789897</td>\n",
       "      <td>-4.010945</td>\n",
       "    </tr>\n",
       "    <tr>\n",
       "      <td>4</td>\n",
       "      <td>3253.826</td>\n",
       "      <td>6.8000000000000000</td>\n",
       "      <td>5.483875</td>\n",
       "      <td>1.316125</td>\n",
       "      <td>-1.554399</td>\n",
       "    </tr>\n",
       "    <tr>\n",
       "      <td>...</td>\n",
       "      <td>...</td>\n",
       "      <td>...</td>\n",
       "      <td>...</td>\n",
       "      <td>...</td>\n",
       "      <td>...</td>\n",
       "    </tr>\n",
       "    <tr>\n",
       "      <td>235</td>\n",
       "      <td>18783.548</td>\n",
       "      <td>3.8000000000000000</td>\n",
       "      <td>4.474808</td>\n",
       "      <td>-0.674808</td>\n",
       "      <td>0.196502</td>\n",
       "    </tr>\n",
       "    <tr>\n",
       "      <td>236</td>\n",
       "      <td>18927.281</td>\n",
       "      <td>3.8666666666666667</td>\n",
       "      <td>4.467318</td>\n",
       "      <td>-0.600652</td>\n",
       "      <td>-0.840211</td>\n",
       "    </tr>\n",
       "    <tr>\n",
       "      <td>237</td>\n",
       "      <td>19021.860</td>\n",
       "      <td>3.6333333333333333</td>\n",
       "      <td>4.459941</td>\n",
       "      <td>-0.826608</td>\n",
       "      <td>-0.766213</td>\n",
       "    </tr>\n",
       "    <tr>\n",
       "      <td>238</td>\n",
       "      <td>19121.112</td>\n",
       "      <td>3.6333333333333333</td>\n",
       "      <td>4.452636</td>\n",
       "      <td>-0.819303</td>\n",
       "      <td>-1.705192</td>\n",
       "    </tr>\n",
       "    <tr>\n",
       "      <td>239</td>\n",
       "      <td>19220.490</td>\n",
       "      <td>3.5333333333333333</td>\n",
       "      <td>4.445388</td>\n",
       "      <td>-0.912055</td>\n",
       "      <td>-4.190471</td>\n",
       "    </tr>\n",
       "  </tbody>\n",
       "</table>\n",
       "<p>240 rows × 5 columns</p>\n",
       "</div>"
      ],
      "text/plain": [
       "     Actual output        Unemployment  Natural unemployment  \\\n",
       "0         3275.757  5.1333333333333333              5.456452   \n",
       "1         3258.088  5.2333333333333333              5.463051   \n",
       "2         3274.029  5.5333333333333333              5.469830   \n",
       "3         3232.009  6.2666666666666667              5.476770   \n",
       "4         3253.826  6.8000000000000000              5.483875   \n",
       "..             ...                 ...                   ...   \n",
       "235      18783.548  3.8000000000000000              4.474808   \n",
       "236      18927.281  3.8666666666666667              4.467318   \n",
       "237      19021.860  3.6333333333333333              4.459941   \n",
       "238      19121.112  3.6333333333333333              4.452636   \n",
       "239      19220.490  3.5333333333333333              4.445388   \n",
       "\n",
       "     Cyclical Unemployment  Short-run Output Yt  \n",
       "0                -0.323119             0.006519  \n",
       "1                -0.229718            -1.638525  \n",
       "2                 0.063504            -1.957588  \n",
       "3                 0.789897            -4.010945  \n",
       "4                 1.316125            -1.554399  \n",
       "..                     ...                  ...  \n",
       "235              -0.674808             0.196502  \n",
       "236              -0.600652            -0.840211  \n",
       "237              -0.826608            -0.766213  \n",
       "238              -0.819303            -1.705192  \n",
       "239              -0.912055            -4.190471  \n",
       "\n",
       "[240 rows x 5 columns]"
      ]
     },
     "execution_count": 10,
     "metadata": {},
     "output_type": "execute_result"
    }
   ],
   "source": [
    "Yt2 = []\n",
    "un1 = []\n",
    "naun1 = []\n",
    "\n",
    "i = 0\n",
    "for i in range(0, 240):\n",
    "    Yt2 = np.append(Yt2, Real_GDP[\"R_GDP\"][i + 52])\n",
    "    \n",
    "i = 0\n",
    "for i in range(0, 240):\n",
    "    un1 = np.append(un1, un_rate[\"Un\"][i + 48])\n",
    "\n",
    "i = 0\n",
    "for i in range(0, 240):\n",
    "    naun1 = np.append(naun1, naun_rate[\"Naun\"][i + 44])\n",
    "    \n",
    "df3 = pd.DataFrame({\"Actual output\": Yt2, \"Unemployment\": un1, \"Natural unemployment\": naun1},\n",
    "                  columns = [\"Actual output\", \"Unemployment\", \"Natural unemployment\"])\n",
    "\n",
    "df3[\"Cyclical Unemployment\"] = df3[\"Unemployment\"].astype(float) - df3[\"Natural unemployment\"]\n",
    "df3[\"Short-run Output Yt\"] = ((df[\"Actual Output Yt\"] - df[\"Potential Output Yt\"]) / df[\"Potential Output Yt\"]) * 100\n",
    "\n",
    "df3"
   ]
  },
  {
   "cell_type": "code",
   "execution_count": 11,
   "metadata": {},
   "outputs": [
    {
     "data": {
      "image/png": "[encoded data removed]",
      "text/plain": [
       "<Figure size 432x288 with 1 Axes>"
      ]
     },
     "metadata": {
      "needs_background": "light"
     },
     "output_type": "display_data"
    }
   ],
   "source": [
    "plt.scatter(df3[\"Short-run Output Yt\"], df3[\"Cyclical Unemployment\"])\n",
    "plt.title(\"Okun's law\")\n",
    "plt.show()"
   ]
  },
  {
   "cell_type": "markdown",
   "metadata": {},
   "source": [
    "__(d)__ Please comment on the scatter plot you created in part __(c)__. Please, no one-liners. Show me that you can think about the data and it's implications."
   ]
  },
  {
   "cell_type": "markdown",
   "metadata": {},
   "source": [
    "I can't see the trend of the slope which is -3/2 based on my graph. The slope is almost flat. I thought I would have more clear slope if I have massive datas. But when I see the outliers I can see that change in inflation is positive, cyclical unemployment rate is negative. And if the change in inflation is negative, cyclical unemployment rate is positive."
   ]
  },
  {
   "cell_type": "markdown",
   "metadata": {},
   "source": [
    "# Chapter 10"
   ]
  },
  {
   "cell_type": "markdown",
   "metadata": {},
   "source": [
    "## Q5) The IGM Economic Forum:\n",
    "\n",
    "The University of Chicago Booth School of Business hosts an online panel of economic experts every two weeks or so to consider a timely economic question. A specific economic opinion is put forward, and the experts either agree or disagree. Most of the questions are about macroeconomics and financial stability, but many are about other interesting issues in economics. \n",
    "\n",
    "__(a)__ Browse through a few past questions at [www.igmchicago.org/img-economic-experts-panel](http://www.igmchicago.org/igm-economic-experts-panel) (or by searching for \"IGM forum Chicago\"). Choose one question related to the topics in this chapter and report your choice. "
   ]
  },
  {
   "cell_type": "markdown",
   "metadata": {},
   "source": [
    "Payday lending. A ban on very short-term loans at very high annualized interest rates (aka payday lending) would make most people who use or might use them better off.\n",
    "Payday lending is a very short-term loan."
   ]
  },
  {
   "cell_type": "markdown",
   "metadata": {},
   "source": [
    "__(b)__ Is there a fair amount of agreement or disagreement among the economic panel? Please no one-liners. Show me that you read."
   ]
  },
  {
   "cell_type": "markdown",
   "metadata": {},
   "source": [
    "There is no strongly agree, but there are 2 percent of strongly disagree. Agree is 33 percent which is 10 percent higher than disagree. Uncertain is the highest with 37 percent. Uncertain goes up to 42 percent with weighted by each confidence. And still 30 percent of agree is higher than disagree by 5 percent. With weighted confidence, agree percentage went down slightly, and disagree percentage went up slightly. Seems like experts are not sure in average how the people whose using payday will do."
   ]
  },
  {
   "cell_type": "markdown",
   "metadata": {},
   "source": [
    "__(c)__ What are your thoughts on the question you chose? Who do you side with? Why?"
   ]
  },
  {
   "cell_type": "markdown",
   "metadata": {},
   "source": [
    "Uncertain. Also, I'm not sure which will be good or bad. There will be some people who desperately need quick money and who can manage money. But there will be people who use payday loan who is bad creditors. So if the payday loan is banned, those who borrow money will have hard life without money but at the same time no more money to payback to the institution. But it can be not benefit who really needs money in that way. "
   ]
  }
 ],
 "metadata": {
  "kernelspec": {
   "display_name": "Python 3",
   "language": "python",
   "name": "python3"
  },
  "language_info": {
   "codemirror_mode": {
    "name": "ipython",
    "version": 3
   },
   "file_extension": ".py",
   "mimetype": "text/x-python",
   "name": "python",
   "nbconvert_exporter": "python",
   "pygments_lexer": "ipython3",
   "version": "3.7.4"
  }
 },
 "nbformat": 4,
 "nbformat_minor": 4
}
